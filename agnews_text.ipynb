{
 "cells": [
  {
   "cell_type": "markdown",
   "id": "6f3cb74c",
   "metadata": {},
   "source": [
    "# AGnews text dataset\n",
    "The dataset is supported by huggingface ([here](https://huggingface.co/datasets/ag_news)), but I still made a custom class to have the same interface as the Reuter one."
   ]
  },
  {
   "cell_type": "code",
   "execution_count": 1,
   "id": "10ddc58e",
   "metadata": {},
   "outputs": [],
   "source": [
    "from torch.utils.data import DataLoader\n",
    "from transformers import RobertaTokenizer\n",
    "from data_prep.agnews_text import AGNewsText"
   ]
  },
  {
   "cell_type": "code",
   "execution_count": 2,
   "id": "1fe207ed",
   "metadata": {},
   "outputs": [],
   "source": [
    "tokenizer = RobertaTokenizer.from_pretrained(\"roberta-base\")"
   ]
  },
  {
   "cell_type": "code",
   "execution_count": 3,
   "id": "9091d557",
   "metadata": {},
   "outputs": [
    {
     "name": "stderr",
     "output_type": "stream",
     "text": [
      "Using custom data configuration default\n",
      "Reusing dataset ag_news (/home/mat/.cache/huggingface/datasets/ag_news/default/0.0.0/0eeeaaa5fb6dffd81458e293dfea1adba2881ffcbdc3fb56baeb5a892566c29a)\n"
     ]
    }
   ],
   "source": [
    "agnews_train, agnews_test, agnews_val = AGNewsText.splits(tokenizer, val_size=0.1)"
   ]
  },
  {
   "cell_type": "code",
   "execution_count": 4,
   "id": "63c839c4",
   "metadata": {},
   "outputs": [
    {
     "name": "stdout",
     "output_type": "stream",
     "text": [
      "AGNews\n",
      "train size: 108000\n",
      "test size: 7600\n",
      "val size: 12000\n"
     ]
    }
   ],
   "source": [
    "print('AGNews')\n",
    "print('train size:', len(agnews_train))\n",
    "print('test size:', len(agnews_test))\n",
    "print('val size:', len(agnews_val))"
   ]
  },
  {
   "cell_type": "code",
   "execution_count": 5,
   "id": "b29c705d",
   "metadata": {},
   "outputs": [
    {
     "name": "stdout",
     "output_type": "stream",
     "text": [
      "tensor([[    0, 29246,   128, 43146, 36535,   108,    88,   380,    12, 28638,\n",
      "           194,     6, 10707, 14331,    36, 11528,    43,  5040,   111,  1444,\n",
      "            16,    22, 43146, 36535,    88,    10,  5786,  2313,   113,   142,\n",
      "             9,   168,   708,     7,  6581,  4576,  3591,     8,    10,  1956,\n",
      "          5124,     6,     5,  1226,    18,   335, 10707,    21,  5304,    25,\n",
      "           584,     4,     2],\n",
      "        [    0,   717, 20861,  1239,  1968,    11, 37439, 14055,  7136,  9363,\n",
      "          1729,  6335,   111,  5855,  4912,  3065, 18595,   603,     4,    34,\n",
      "          3566,    10,   564,   135,  1968,    11,   764,  2659,  8967, 20170,\n",
      "          6494,  1082, 37439,     6,     5,   451,    26,   273,     4,     2,\n",
      "             1,     1,     1,     1,     1,     1,     1,     1,     1,     1,\n",
      "             1,     1,     1]])\n",
      "tensor([[1, 1, 1, 1, 1, 1, 1, 1, 1, 1, 1, 1, 1, 1, 1, 1, 1, 1, 1, 1, 1, 1, 1, 1,\n",
      "         1, 1, 1, 1, 1, 1, 1, 1, 1, 1, 1, 1, 1, 1, 1, 1, 1, 1, 1, 1, 1, 1, 1, 1,\n",
      "         1, 1, 1, 1, 1],\n",
      "        [1, 1, 1, 1, 1, 1, 1, 1, 1, 1, 1, 1, 1, 1, 1, 1, 1, 1, 1, 1, 1, 1, 1, 1,\n",
      "         1, 1, 1, 1, 1, 1, 1, 1, 1, 1, 1, 1, 1, 1, 1, 1, 0, 0, 0, 0, 0, 0, 0, 0,\n",
      "         0, 0, 0, 0, 0]])\n",
      "tensor([0, 3])\n"
     ]
    }
   ],
   "source": [
    "agnews_train_dataloader = DataLoader(\n",
    "    agnews_train, \n",
    "    batch_size=2, \n",
    "    shuffle=True, \n",
    "    collate_fn=agnews_train.get_collate_fn()\n",
    ")\n",
    "\n",
    "for data in agnews_train_dataloader:\n",
    "    input_ids = data[\"input_ids\"]\n",
    "    attention_mask = data[\"attention_mask\"]\n",
    "    labels = data[\"labels\"]\n",
    "    print(input_ids)\n",
    "    print(attention_mask)\n",
    "    print(labels)\n",
    "    break"
   ]
  },
  {
   "cell_type": "code",
   "execution_count": null,
   "id": "27e1b5e0",
   "metadata": {},
   "outputs": [],
   "source": []
  }
 ],
 "metadata": {
  "kernelspec": {
   "display_name": "Python 3",
   "language": "python",
   "name": "python3"
  },
  "language_info": {
   "codemirror_mode": {
    "name": "ipython",
    "version": 3
   },
   "file_extension": ".py",
   "mimetype": "text/x-python",
   "name": "python",
   "nbconvert_exporter": "python",
   "pygments_lexer": "ipython3",
   "version": "3.8.8"
  }
 },
 "nbformat": 4,
 "nbformat_minor": 5
}
