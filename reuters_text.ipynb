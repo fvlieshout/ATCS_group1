{
 "cells": [
  {
   "cell_type": "markdown",
   "id": "6f3cb74c",
   "metadata": {},
   "source": [
    "# R8 and R52 text dataset\n",
    "nltk only contains the whole corpus ([docs](https://www.nltk.org/book/ch02.html)) so I built the subsets by hand by following the explanation [here](https://ana.cachopo.org/datasets-for-single-label-text-categorization).\n",
    "\n",
    "The number of docs in the datasets **do not match** the numbers in the Text GCN paper as I got slightly more docs! This might be because the nltk version contains some \"fixed\" docs which incorrectly had multiple or no classes (read explanation). I manually checked some classes with the different numbers and they seemed fine (so all docs had a single class) The classes match at least!\n",
    "\n",
    "Also note that stop-words are already removed (unlike in Text GCN).\n",
    "\n",
    "Since our goal is not to reproduce the paper, I just accepted these things\n",
    "\n",
    "Making a graph dataset out of this is TODO"
   ]
  },
  {
   "cell_type": "code",
   "execution_count": 1,
   "id": "10ddc58e",
   "metadata": {},
   "outputs": [
    {
     "name": "stderr",
     "output_type": "stream",
     "text": [
      "[nltk_data] Downloading package reuters to /home/matyi/nltk_data...\n",
      "[nltk_data]   Package reuters is already up-to-date!\n",
      "[nltk_data] Downloading package punkt to /home/matyi/nltk_data...\n",
      "[nltk_data]   Package punkt is already up-to-date!\n"
     ]
    }
   ],
   "source": [
    "from torchtext.data import BucketIterator, Field\n",
    "from torchtext.vocab import GloVe\n",
    "\n",
    "from datasets.reuters_text import R8, R52"
   ]
  },
  {
   "cell_type": "code",
   "execution_count": 2,
   "id": "53b2ab39",
   "metadata": {},
   "outputs": [
    {
     "name": "stderr",
     "output_type": "stream",
     "text": [
      "/home/matyi/university/ATCS_group1/venv/lib/python3.8/site-packages/torchtext/data/field.py:150: UserWarning: Field class will be retired soon and moved to torchtext.legacy. Please see the most recent release notes for further information.\n",
      "  warnings.warn('{} class will be retired soon and moved to torchtext.legacy. Please see the most recent release notes for further information.'.format(self.__class__.__name__), UserWarning)\n"
     ]
    }
   ],
   "source": [
    "ID = Field(sequential=False, include_lengths=False)\n",
    "TEXT = Field(sequential=True, lower=True, include_lengths=True, batch_first=True)\n",
    "LABEL = Field(sequential=False, include_lengths=False)"
   ]
  },
  {
   "cell_type": "code",
   "execution_count": 3,
   "id": "9091d557",
   "metadata": {},
   "outputs": [
    {
     "name": "stderr",
     "output_type": "stream",
     "text": [
      "/home/matyi/university/ATCS_group1/venv/lib/python3.8/site-packages/torchtext/data/example.py:78: UserWarning: Example class will be retired soon and moved to torchtext.legacy. Please see the most recent release notes for further information.\n",
      "  warnings.warn('Example class will be retired soon and moved to torchtext.legacy. Please see the most recent release notes for further information.', UserWarning)\n"
     ]
    }
   ],
   "source": [
    "r52_train, r52_test = R52.splits(ID, TEXT, LABEL)\n",
    "r8_train,  r8_test  = R8.splits(ID, TEXT, LABEL)"
   ]
  },
  {
   "cell_type": "code",
   "execution_count": 4,
   "id": "63c839c4",
   "metadata": {},
   "outputs": [
    {
     "name": "stdout",
     "output_type": "stream",
     "text": [
      "R8\n",
      "train size: 5501  instead of 5485\n",
      "test size: 2190  instead of 2189\n",
      "R52\n",
      "train size: 6560  instead of 6532\n",
      "test size: 2570  instead of 2568\n"
     ]
    }
   ],
   "source": [
    "print('R8')\n",
    "print('train size:', len(r8_train), ' instead of 5485')\n",
    "print('test size:', len(r8_test), ' instead of 2189')\n",
    "\n",
    "print('R52')\n",
    "print('train size:', len(r52_train), ' instead of 6532')\n",
    "print('test size:', len(r52_test), ' instead of 2568')"
   ]
  },
  {
   "cell_type": "code",
   "execution_count": 5,
   "id": "b29c705d",
   "metadata": {},
   "outputs": [],
   "source": [
    "ID.build_vocab(r52_train)\n",
    "TEXT.build_vocab(r52_train, vectors=GloVe(name='840B', dim=300, max_vectors=10000))\n",
    "LABEL.build_vocab(r52_train)"
   ]
  },
  {
   "cell_type": "code",
   "execution_count": 6,
   "id": "a28b8cd2",
   "metadata": {},
   "outputs": [
    {
     "name": "stderr",
     "output_type": "stream",
     "text": [
      "/home/matyi/university/ATCS_group1/venv/lib/python3.8/site-packages/torchtext/data/iterator.py:48: UserWarning: BucketIterator class will be retired soon and moved to torchtext.legacy. Please see the most recent release notes for further information.\n",
      "  warnings.warn('{} class will be retired soon and moved to torchtext.legacy. Please see the most recent release notes for further information.'.format(self.__class__.__name__), UserWarning)\n"
     ]
    }
   ],
   "source": [
    "r52_train_iter, r52_test_iter = BucketIterator.splits((r52_train, r52_test), batch_size=4)"
   ]
  },
  {
   "cell_type": "code",
   "execution_count": 7,
   "id": "69e0700a",
   "metadata": {},
   "outputs": [
    {
     "name": "stdout",
     "output_type": "stream",
     "text": [
      "\n",
      "[torchtext.data.batch.Batch of size 4]\n",
      "\t[.id]:[torch.LongTensor of size 4]\n",
      "\t[.text]:('[torch.LongTensor of size 4x115]', '[torch.LongTensor of size 4]')\n",
      "\t[.label]:[torch.LongTensor of size 4]\n",
      "tensor([5630, 5824,  981, 4739])\n",
      "tensor([ 2, 21,  2,  1])\n",
      "These two labels should be the same: acq == acq\n",
      "(tensor([[ 3007, 19260,    20,    22,    19, 13461,    26,     6,   226,   571,\n",
      "           267,     6,  7674,  3007,   256,    46,     9,    29, 10104,    58,\n",
      "           282,   215,     6,   226,    29, 14739,  4388,  1444,   195,     7,\n",
      "          1206,     6, 11814,     3,  1960,    14,   259,  7674,    58,     3,\n",
      "            16,   814,   324,     2,  1200,     5,     4,   362,   504,    32,\n",
      "           467,     6,   427,    35,     4,  1737,   129,     3,    17,     9,\n",
      "             2,     1,     1,     1,     1,     1,     1,     1,     1,     1,\n",
      "             1,     1,     1,     1,     1,     1,     1,     1,     1,     1,\n",
      "             1,     1,     1,     1,     1,     1,     1,     1,     1,     1,\n",
      "             1,     1,     1,     1,     1,     1,     1,     1,     1,     1,\n",
      "             1,     1,     1,     1,     1,     1,     1,     1,     1,     1,\n",
      "             1,     1,     1,     1,     1],\n",
      "        [ 1913,  6458,  1663,   775,    10,  3220,  2064,     8,  1913,    33,\n",
      "           964,   381,   717,   358,    32,  7572, 14123,    10,   775,  4424,\n",
      "             7,  1422,    10,   251,     9,    17,   158,    72,   495,   112,\n",
      "             2,     4,   129,    32,  7909,  1664,   202, 20931,  5991,     7,\n",
      "          1497,     5,  7702,     3,  1492,    10,   828,  6576,     3,    66,\n",
      "            57,  1239,     6,  4039,  1417,     3,   602,     6,   895,   968,\n",
      "             2,   188,    49,   114,   143,   178,   903,     5,  1579,     2,\n",
      "           251,     5,  1422,    18,    13,  3127,    14,   525,   765,     9,\n",
      "            29, 12125,   158,   492,   840,   217,   989, 12610,    83,  5602,\n",
      "            16,   489,     6,  5740,    40,  3127,    14,   525,  1491,     2,\n",
      "          1422,    49,     8, 21515,  1112,    33,  2669,  1661,     7,   112,\n",
      "            10,  9461,     6,   648,     2],\n",
      "        [ 1612,    18,    13,  2221,  1234,  1473,   137,    47,     2,    13,\n",
      "             2,  2871,    14,  2982,    58,    16,   637,    11,   987,    14,\n",
      "           178,  1612,    18,    13,  2221,  1234,  1473,   137,    47,     2,\n",
      "            13,     2,  2871,    14,  2982,    58,    16,   637,    11,   987,\n",
      "            14,   178,     1,     1,     1,     1,     1,     1,     1,     1,\n",
      "             1,     1,     1,     1,     1,     1,     1,     1,     1,     1,\n",
      "             1,     1,     1,     1,     1,     1,     1,     1,     1,     1,\n",
      "             1,     1,     1,     1,     1,     1,     1,     1,     1,     1,\n",
      "             1,     1,     1,     1,     1,     1,     1,     1,     1,     1,\n",
      "             1,     1,     1,     1,     1,     1,     1,     1,     1,     1,\n",
      "             1,     1,     1,     1,     1,     1,     1,     1,     1,     1,\n",
      "             1,     1,     1,     1,     1],\n",
      "        [11475,   786,   552,    97,    20,    22,    19, 14565,    26,  1571,\n",
      "          1001,   264,   203,   808,     8,   300,     2,    50,    25,    12,\n",
      "           346,     2,    54,    25,   184,   264,   203,   808,   697,    36,\n",
      "             2,    50,    25,    12,    36,     2,    54,    25,   184,   168,\n",
      "           413,    70,   121,   112,    70,     1,     1,     1,     1,     1,\n",
      "             1,     1,     1,     1,     1,     1,     1,     1,     1,     1,\n",
      "             1,     1,     1,     1,     1,     1,     1,     1,     1,     1,\n",
      "             1,     1,     1,     1,     1,     1,     1,     1,     1,     1,\n",
      "             1,     1,     1,     1,     1,     1,     1,     1,     1,     1,\n",
      "             1,     1,     1,     1,     1,     1,     1,     1,     1,     1,\n",
      "             1,     1,     1,     1,     1,     1,     1,     1,     1,     1,\n",
      "             1,     1,     1,     1,     1]]), tensor([ 61, 115,  42,  45]))\n"
     ]
    },
    {
     "name": "stderr",
     "output_type": "stream",
     "text": [
      "/home/matyi/university/ATCS_group1/venv/lib/python3.8/site-packages/torchtext/data/batch.py:23: UserWarning: Batch class will be retired soon and moved to torchtext.legacy. Please see the most recent release notes for further information.\n",
      "  warnings.warn('{} class will be retired soon and moved to torchtext.legacy. Please see the most recent release notes for further information.'.format(self.__class__.__name__), UserWarning)\n"
     ]
    }
   ],
   "source": [
    "# Import reuters just to prove a point\n",
    "from nltk.corpus import reuters\n",
    "\n",
    "for x in r52_train_iter:\n",
    "    print(x)\n",
    "    print(x.id)\n",
    "    print(x.label)\n",
    "    print('These two labels should be the same: {} == {}'.format(\n",
    "        reuters.categories(ID.vocab.itos[x.id[0]])[0],\n",
    "        LABEL.vocab.itos[x.label[0]]))\n",
    "\n",
    "    print(x.text) # Padding is 1\n",
    "    break"
   ]
  },
  {
   "cell_type": "code",
   "execution_count": null,
   "id": "27e1b5e0",
   "metadata": {},
   "outputs": [],
   "source": []
  }
 ],
 "metadata": {
  "kernelspec": {
   "display_name": "Python 3",
   "language": "python",
   "name": "python3"
  },
  "language_info": {
   "codemirror_mode": {
    "name": "ipython",
    "version": 3
   },
   "file_extension": ".py",
   "mimetype": "text/x-python",
   "name": "python",
   "nbconvert_exporter": "python",
   "pygments_lexer": "ipython3",
   "version": "3.8.5"
  }
 },
 "nbformat": 4,
 "nbformat_minor": 5
}
