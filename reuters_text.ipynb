{
 "cells": [
  {
   "cell_type": "markdown",
   "id": "6f3cb74c",
   "metadata": {},
   "source": [
    "# R8 and R52 text dataset\n",
    "nltk only contains the whole corpus ([docs](https://www.nltk.org/book/ch02.html)) so I built the subsets by hand by following the explanation [here](https://ana.cachopo.org/datasets-for-single-label-text-categorization).\n",
    "\n",
    "The number of docs in the datasets **do not match** the numbers in the Text GCN paper as I got slightly more docs! This might be because the nltk version contains some \"fixed\" docs which incorrectly had multiple or no classes (read explanation). I manually checked some classes with the different numbers and they seemed fine (so all docs had a single class) The classes match at least!\n",
    "\n",
    "Also note that stop-words are already removed (unlike in Text GCN).\n",
    "\n",
    "Since our goal is not to reproduce the paper, I just accepted these things\n",
    "\n",
    "Making a graph dataset out of this is TODO"
   ]
  },
  {
   "cell_type": "code",
   "execution_count": 1,
   "id": "10ddc58e",
   "metadata": {},
   "outputs": [
    {
     "name": "stderr",
     "output_type": "stream",
     "text": [
      "[nltk_data] Downloading package reuters to /home/mat/nltk_data...\n",
      "[nltk_data]   Package reuters is already up-to-date!\n"
     ]
    }
   ],
   "source": [
    "from torch.utils.data import DataLoader\n",
    "from transformers import RobertaTokenizer\n",
    "from datasets.reuters_text import R8, R52"
   ]
  },
  {
   "cell_type": "code",
   "execution_count": 2,
   "id": "1fe207ed",
   "metadata": {},
   "outputs": [],
   "source": [
    "tokenizer = RobertaTokenizer.from_pretrained(\"roberta-base\")"
   ]
  },
  {
   "cell_type": "code",
   "execution_count": 3,
   "id": "9091d557",
   "metadata": {},
   "outputs": [],
   "source": [
    "r52_train, r52_test, r52_val = R52.splits(tokenizer, val_size=0.1)\n",
    "r8_train,  r8_test, r8_val  = R8.splits(tokenizer, val_size=0.1)"
   ]
  },
  {
   "cell_type": "code",
   "execution_count": 4,
   "id": "63c839c4",
   "metadata": {},
   "outputs": [
    {
     "name": "stdout",
     "output_type": "stream",
     "text": [
      "R8\n",
      "train size: 4951  instead of 5485\n",
      "test size: 2190  instead of 2189\n",
      "val size: 550\n",
      "R52\n",
      "train size: 5904  instead of 6532\n",
      "test size: 2570  instead of 2568\n",
      "val size: 656\n"
     ]
    }
   ],
   "source": [
    "print('R8')\n",
    "print('train size:', len(r8_train), ' instead of 5485')\n",
    "print('test size:', len(r8_test), ' instead of 2189')\n",
    "print('val size:', len(r8_val))\n",
    "\n",
    "print('R52')\n",
    "print('train size:', len(r52_train), ' instead of 6532')\n",
    "print('test size:', len(r52_test), ' instead of 2568')\n",
    "print('val size:', len(r52_val))"
   ]
  },
  {
   "cell_type": "code",
   "execution_count": 5,
   "id": "b29c705d",
   "metadata": {},
   "outputs": [
    {
     "name": "stdout",
     "output_type": "stream",
     "text": [
      "tensor([[    0,   725, 11969,  ...,     1,     1,     1],\n",
      "        [    0, 26107,   359,  ...,     1,     1,     1]])\n",
      "tensor([[1, 1, 1,  ..., 0, 0, 0],\n",
      "        [1, 1, 1,  ..., 0, 0, 0]])\n",
      "tensor([12, 12])\n"
     ]
    }
   ],
   "source": [
    "r52_train_dataloader = DataLoader(r52_train, batch_size=2, shuffle=True)\n",
    "\n",
    "for data in r52_train_dataloader:\n",
    "    input_ids = data[\"input_ids\"]\n",
    "    attention_mask = data[\"attention_mask\"]\n",
    "    labels = data[\"labels\"]\n",
    "    print(input_ids)\n",
    "    print(attention_mask)\n",
    "    print(labels)\n",
    "    break"
   ]
  },
  {
   "cell_type": "code",
   "execution_count": null,
   "id": "27e1b5e0",
   "metadata": {},
   "outputs": [],
   "source": []
  }
 ],
 "metadata": {
  "kernelspec": {
   "display_name": "Python 3",
   "language": "python",
   "name": "python3"
  },
  "language_info": {
   "codemirror_mode": {
    "name": "ipython",
    "version": 3
   },
   "file_extension": ".py",
   "mimetype": "text/x-python",
   "name": "python",
   "nbconvert_exporter": "python",
   "pygments_lexer": "ipython3",
   "version": "3.8.8"
  }
 },
 "nbformat": 4,
 "nbformat_minor": 5
}
