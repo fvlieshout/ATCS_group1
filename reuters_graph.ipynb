{
 "cells": [
  {
   "cell_type": "markdown",
   "id": "9dcea768",
   "metadata": {},
   "source": [
    "# Reuters Graph version\n",
    "\n",
    "### Sources\n",
    "- [Philipp tutorial](https://uvadlc-notebooks.readthedocs.io/en/latest/tutorial_notebooks/tutorial7/GNN_overview.html)\n",
    "- [pytorch-geometric](https://pytorch-geometric.readthedocs.io/en/latest/)\n",
    "- [nltk docs](https://www.nltk.org/book/ch02.html)"
   ]
  },
  {
   "cell_type": "code",
   "execution_count": 1,
   "id": "5373b31a",
   "metadata": {},
   "outputs": [],
   "source": [
    "import torch\n",
    "import numpy as np\n",
    "\n",
    "from data_prep.reuters_graph import R8Graph, R52Graph\n",
    "\n",
    "device = torch.device(\"cuda:0\") if torch.cuda.is_available() else torch.cuda(\"cpu\")"
   ]
  },
  {
   "cell_type": "code",
   "execution_count": 2,
   "id": "c7a5e435",
   "metadata": {},
   "outputs": [
    {
     "name": "stdout",
     "output_type": "stream",
     "text": [
      "Prepare Reuters dataset\n",
      "Compute tf.idf\n",
      "Compute PMI scores\n",
      "Generate edges\n",
      "Generate masks\n",
      "Generate feature matrix\n",
      "Features mtx is 0.584769124 GBs in size\n"
     ]
    }
   ],
   "source": [
    "r8 = R8Graph(device)"
   ]
  },
  {
   "cell_type": "code",
   "execution_count": 3,
   "id": "bc94fbc5",
   "metadata": {},
   "outputs": [
    {
     "name": "stdout",
     "output_type": "stream",
     "text": [
      "(array([0, 1, 2, 3, 4, 5, 6, 7]), array([262,  42, 461,  15,  39,  38,  36, 107]))\n",
      "(array([0, 1, 2, 4, 5, 7]), array([35,  5, 49,  2,  4,  5]))\n"
     ]
    }
   ],
   "source": [
    "print(np.unique(r8.data.y[r8.data.train_mask].cpu(), return_counts=True))\n",
    "print(np.unique(r8.data.y[r8.data.val_mask].cpu(), return_counts=True))"
   ]
  },
  {
   "cell_type": "code",
   "execution_count": 4,
   "id": "b67071f0",
   "metadata": {},
   "outputs": [
    {
     "name": "stdout",
     "output_type": "stream",
     "text": [
      "tensor(0, device='cuda:0')\n",
      "tensor(1000, device='cuda:0')\n",
      "tensor(100, device='cuda:0')\n",
      "tensor(100, device='cuda:0')\n"
     ]
    }
   ],
   "source": [
    "print(sum(r8.data.val_mask * r8.data.train_mask * r8.data.test_mask))\n",
    "print(sum(r8.data.train_mask))\n",
    "print(sum(r8.data.val_mask))\n",
    "print(sum(r8.data.test_mask))"
   ]
  },
  {
   "cell_type": "code",
   "execution_count": 5,
   "id": "512c809e",
   "metadata": {},
   "outputs": [],
   "source": [
    "# GraphConv, GATConv\n",
    "import torch\n",
    "import torch.nn.functional as F\n",
    "from torch_geometric.nn import GCNConv, GraphConv\n",
    "\n",
    "class Net(torch.nn.Module):\n",
    "    def __init__(self):\n",
    "        super(Net, self).__init__()\n",
    "        self.conv1 = GCNConv(len(r8.iton), 200)\n",
    "        self.conv2 = GCNConv(200, 8)\n",
    "\n",
    "    def forward(self, data):\n",
    "        x, edge_index, edge_weight = data.x, data.edge_index, data.edge_attr\n",
    "        \n",
    "        x = self.conv1(x, edge_index, edge_weight)\n",
    "        x = F.relu(x)\n",
    "        x = F.dropout(x, training=self.training)\n",
    "        x = self.conv2(x, edge_index, edge_weight)\n",
    "        return x\n",
    "\n",
    "def eval(model, data, mask):\n",
    "    _, pred = model(data).max(dim=1)\n",
    "    #print(pred[mask])\n",
    "    #print(data.y[mask])\n",
    "    correct = pred[mask].eq(data.y[mask]).sum().item()\n",
    "    acc = correct / mask.sum()\n",
    "    print('Accuracy: {:.4f}'.format(acc))"
   ]
  },
  {
   "cell_type": "code",
   "execution_count": 6,
   "id": "4726a0ab",
   "metadata": {},
   "outputs": [
    {
     "data": {
      "text/plain": [
       "Data(edge_attr=[1209458], edge_index=[2, 1209458], test_mask=[12091], train_mask=[12091], val_mask=[12091], x=[12091, 12091], y=[12091])"
      ]
     },
     "execution_count": 6,
     "metadata": {},
     "output_type": "execute_result"
    }
   ],
   "source": [
    "model = Net()\n",
    "model = model.to(device)\n",
    "optimizer = torch.optim.Adam(model.parameters(), lr=0.1)#, weight_decay=5e-4)\n",
    "r8.data.to(device)"
   ]
  },
  {
   "cell_type": "code",
   "execution_count": 7,
   "id": "307e3254",
   "metadata": {},
   "outputs": [
    {
     "data": {
      "application/vnd.jupyter.widget-view+json": {
       "model_id": "daafe1d3219845d190348b2d0cab08fa",
       "version_major": 2,
       "version_minor": 0
      },
      "text/plain": [
       "HBox(children=(FloatProgress(value=0.0, max=40.0), HTML(value='')))"
      ]
     },
     "metadata": {},
     "output_type": "display_data"
    },
    {
     "name": "stdout",
     "output_type": "stream",
     "text": [
      "Loss: 2.0793890953063965\n",
      "(array([0, 1, 2, 3, 4, 5, 6, 7]), array([522, 126,  35,  60,   9,   3, 220,  25]))\n",
      "Accuracy: 0.4900\n",
      "Loss: 1.600253701210022\n",
      "(array([2]), array([1000]))\n",
      "Accuracy: 0.4900\n",
      "Loss: 1.4529918432235718\n",
      "(array([2]), array([1000]))\n",
      "Accuracy: 0.4900\n",
      "Loss: 1.38367760181427\n",
      "(array([2]), array([1000]))\n",
      "Accuracy: 0.5200\n",
      "Loss: 1.2150911092758179\n",
      "(array([0, 2]), array([ 34, 966]))\n",
      "Accuracy: 0.8200\n",
      "Loss: 1.09518563747406\n",
      "(array([0, 2]), array([467, 533]))\n",
      "Accuracy: 0.8200\n",
      "Loss: 0.9767016172409058\n",
      "(array([0, 2]), array([473, 527]))\n",
      "Accuracy: 0.8300\n",
      "Loss: 0.8734109401702881\n",
      "(array([0, 2]), array([443, 557]))\n",
      "Accuracy: 0.8100\n",
      "Loss: 0.7946096062660217\n",
      "(array([0, 2]), array([454, 546]))\n",
      "Accuracy: 0.8300\n",
      "Loss: 0.7308882474899292\n",
      "(array([0, 2, 7]), array([469, 530,   1]))\n",
      "Accuracy: 0.8200\n",
      "Loss: 0.6623002290725708\n",
      "(array([0, 2, 7]), array([428, 522,  50]))\n",
      "Accuracy: 0.8500\n",
      "Loss: 0.5993506908416748\n",
      "(array([0, 2, 7]), array([290, 536, 174]))\n",
      "Accuracy: 0.8600\n",
      "Loss: 0.5443897843360901\n",
      "(array([0, 2, 7]), array([271, 512, 217]))\n",
      "Accuracy: 0.8400\n",
      "Loss: 0.5081155300140381\n",
      "(array([0, 2, 7]), array([262, 500, 238]))\n",
      "Accuracy: 0.8400\n",
      "Loss: 0.4565276503562927\n",
      "(array([0, 1, 2, 7]), array([266,   4, 489, 241]))\n",
      "Accuracy: 0.8500\n",
      "Loss: 0.4083865284919739\n",
      "(array([0, 1, 2, 4, 5, 7]), array([262,   8, 502,   1,   4, 223]))\n",
      "Accuracy: 0.8700\n",
      "Loss: 0.3614181578159332\n",
      "(array([0, 1, 2, 4, 5, 7]), array([266,  26, 511,   6,   6, 185]))\n",
      "Accuracy: 0.8900\n",
      "Loss: 0.3147873878479004\n",
      "(array([0, 1, 2, 4, 5, 6, 7]), array([266,  37, 493,  17,  16,   8, 163]))\n",
      "Accuracy: 0.9000\n",
      "Loss: 0.27088817954063416\n",
      "(array([0, 1, 2, 4, 5, 6, 7]), array([264,  39, 471,  35,  24,  22, 145]))\n",
      "Accuracy: 0.9000\n",
      "Loss: 0.22516481578350067\n",
      "(array([0, 1, 2, 4, 5, 6, 7]), array([263,  41, 465,  45,  27,  28, 131]))\n",
      "Accuracy: 0.9200\n",
      "Loss: 0.19333335757255554\n",
      "(array([0, 1, 2, 3, 4, 5, 6, 7]), array([262,  38, 465,   2,  48,  28,  35, 122]))\n",
      "Accuracy: 0.9200\n",
      "Loss: 0.1469232589006424\n",
      "(array([0, 1, 2, 3, 4, 5, 6, 7]), array([262,  40, 464,   7,  43,  30,  33, 121]))\n",
      "Accuracy: 0.9000\n",
      "Loss: 0.1152929738163948\n",
      "(array([0, 1, 2, 3, 4, 5, 6, 7]), array([262,  40, 462,  12,  38,  33,  35, 118]))\n",
      "Accuracy: 0.9300\n",
      "Loss: 0.09889023005962372\n",
      "(array([0, 1, 2, 3, 4, 5, 6, 7]), array([262,  40, 462,  13,  37,  37,  36, 113]))\n",
      "Accuracy: 0.9000\n",
      "Loss: 0.07974187284708023\n",
      "(array([0, 1, 2, 3, 4, 5, 6, 7]), array([262,  41, 462,  13,  35,  41,  36, 110]))\n",
      "Accuracy: 0.9200\n",
      "Loss: 0.05808749794960022\n",
      "(array([0, 1, 2, 3, 4, 5, 6, 7]), array([262,  41, 462,  14,  37,  39,  36, 109]))\n",
      "Accuracy: 0.9000\n",
      "Loss: 0.042655523866415024\n",
      "(array([0, 1, 2, 3, 4, 5, 6, 7]), array([262,  42, 461,  15,  36,  40,  36, 108]))\n",
      "Accuracy: 0.9200\n",
      "Loss: 0.033258408308029175\n",
      "(array([0, 1, 2, 3, 4, 5, 6, 7]), array([262,  42, 461,  15,  39,  38,  36, 107]))\n",
      "Accuracy: 0.9100\n",
      "Loss: 0.02585248276591301\n",
      "(array([0, 1, 2, 3, 4, 5, 6, 7]), array([262,  42, 462,  13,  39,  39,  36, 107]))\n",
      "Accuracy: 0.9300\n",
      "Loss: 0.021373216062784195\n",
      "(array([0, 1, 2, 3, 4, 5, 6, 7]), array([262,  42, 461,  15,  38,  38,  36, 108]))\n",
      "Accuracy: 0.8900\n",
      "Loss: 0.01984309032559395\n",
      "(array([0, 1, 2, 3, 4, 5, 6, 7]), array([262,  42, 461,  15,  40,  36,  36, 108]))\n",
      "Accuracy: 0.9000\n",
      "Loss: 0.011970704421401024\n",
      "(array([0, 1, 2, 3, 4, 5, 6, 7]), array([262,  42, 461,  15,  39,  38,  36, 107]))\n",
      "Accuracy: 0.9100\n",
      "Loss: 0.008332813158631325\n",
      "(array([0, 1, 2, 3, 4, 5, 6, 7]), array([262,  42, 461,  15,  39,  38,  36, 107]))\n",
      "Accuracy: 0.9100\n",
      "Loss: 0.006258639972656965\n",
      "(array([0, 1, 2, 3, 4, 5, 6, 7]), array([262,  42, 461,  15,  39,  38,  36, 107]))\n",
      "Accuracy: 0.9200\n",
      "Loss: 0.005049710627645254\n",
      "(array([0, 1, 2, 3, 4, 5, 6, 7]), array([262,  42, 461,  15,  39,  38,  36, 107]))\n",
      "Accuracy: 0.8900\n",
      "Loss: 0.00466955779120326\n",
      "(array([0, 1, 2, 3, 4, 5, 6, 7]), array([262,  42, 461,  15,  39,  38,  36, 107]))\n",
      "Accuracy: 0.9000\n",
      "Loss: 0.003086480777710676\n",
      "(array([0, 1, 2, 3, 4, 5, 6, 7]), array([262,  42, 461,  15,  39,  38,  36, 107]))\n",
      "Accuracy: 0.9400\n",
      "Loss: 0.002484685741364956\n",
      "(array([0, 1, 2, 3, 4, 5, 6, 7]), array([262,  42, 461,  15,  39,  38,  36, 107]))\n",
      "Accuracy: 0.9200\n",
      "Loss: 0.0020905639976263046\n",
      "(array([0, 1, 2, 3, 4, 5, 6, 7]), array([262,  42, 461,  15,  39,  38,  36, 107]))\n",
      "Accuracy: 0.9000\n",
      "Loss: 0.002331819850951433\n",
      "(array([0, 1, 2, 3, 4, 5, 6, 7]), array([262,  42, 461,  15,  39,  38,  36, 107]))\n",
      "Accuracy: 0.9100\n",
      "\n"
     ]
    }
   ],
   "source": [
    "from tqdm.notebook import tqdm\n",
    "\n",
    "model.train()\n",
    "for epoch in tqdm(range(40)):\n",
    "    optimizer.zero_grad()\n",
    "    out = model(r8.data)\n",
    "    # We might want to use the \"weight\" parameter for the loss with unbalanced dataset\n",
    "    # since with a low learning rate the model just assigns every doc to class \"earn\"\n",
    "    # https://pytorch.org/docs/stable/generated/torch.nn.CrossEntropyLoss.html\n",
    "    loss = F.cross_entropy(out[r8.data.train_mask], r8.data.y[r8.data.train_mask])\n",
    "    print('Loss:', loss.item())\n",
    "    loss.backward()\n",
    "    optimizer.step()\n",
    "    print(np.unique(out[r8.data.train_mask].max(dim=1)[1].detach().cpu().numpy(), return_counts=True))\n",
    "    #print(np.unique(r8.data.y[r8.data.train_mask].detach().cpu().numpy(), return_counts=True))\n",
    "    eval(model, r8.data, r8.data.val_mask)"
   ]
  },
  {
   "cell_type": "code",
   "execution_count": 8,
   "id": "bf770635",
   "metadata": {},
   "outputs": [
    {
     "name": "stdout",
     "output_type": "stream",
     "text": [
      "Accuracy: 0.9200\n"
     ]
    }
   ],
   "source": [
    "eval(model, r8.data, r8.data.test_mask)"
   ]
  },
  {
   "cell_type": "code",
   "execution_count": null,
   "id": "71d5323e",
   "metadata": {},
   "outputs": [],
   "source": []
  }
 ],
 "metadata": {
  "kernelspec": {
   "display_name": "Python 3",
   "language": "python",
   "name": "python3"
  },
  "language_info": {
   "codemirror_mode": {
    "name": "ipython",
    "version": 3
   },
   "file_extension": ".py",
   "mimetype": "text/x-python",
   "name": "python",
   "nbconvert_exporter": "python",
   "pygments_lexer": "ipython3",
   "version": "3.8.8"
  }
 },
 "nbformat": 4,
 "nbformat_minor": 5
}
