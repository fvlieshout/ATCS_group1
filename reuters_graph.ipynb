{
 "cells": [
  {
   "cell_type": "markdown",
   "id": "9dcea768",
   "metadata": {},
   "source": [
    "# Reuters Graph version\n",
    "\n",
    "### Sources\n",
    "- [Philipp tutorial](https://uvadlc-notebooks.readthedocs.io/en/latest/tutorial_notebooks/tutorial7/GNN_overview.html)\n",
    "- [pytorch-geometric](https://pytorch-geometric.readthedocs.io/en/latest/)\n",
    "- [nltk docs](https://www.nltk.org/book/ch02.html)"
   ]
  },
  {
   "cell_type": "code",
   "execution_count": 1,
   "id": "5373b31a",
   "metadata": {},
   "outputs": [
    {
     "name": "stderr",
     "output_type": "stream",
     "text": [
      "[nltk_data] Downloading package reuters to /home/mat/nltk_data...\n",
      "[nltk_data]   Package reuters is already up-to-date!\n"
     ]
    }
   ],
   "source": [
    "import torch\n",
    "import numpy as np\n",
    "\n",
    "from data_prep.reuters_graph import R8Graph, R52Graph\n",
    "\n",
    "device = torch.device(\"cuda:0\") if torch.cuda.is_available() else torch.device(\"cpu\")"
   ]
  },
  {
   "cell_type": "code",
   "execution_count": 12,
   "id": "c7a5e435",
   "metadata": {},
   "outputs": [
    {
     "name": "stdout",
     "output_type": "stream",
     "text": [
      "Prepare Reuters dataset\n",
      "Compute tf.idf\n",
      "Compute PMI scores\n",
      "Generate edges\n",
      "Generate masks\n",
      "Generate feature matrix\n",
      "Features mtx is 0.6030953640000001 GBs in size\n"
     ]
    }
   ],
   "source": [
    "r8 = R8Graph(device, train_doc=1000)"
   ]
  },
  {
   "cell_type": "code",
   "execution_count": 13,
   "id": "bc94fbc5",
   "metadata": {},
   "outputs": [
    {
     "name": "stdout",
     "output_type": "stream",
     "text": [
      "(array([0, 1, 2, 3, 4, 5, 6, 7]), array([268,  41, 451,  15,  31,  43,  30, 121]))\n",
      "(array([0, 1, 2, 4, 5, 6, 7]), array([30,  4, 49,  5,  3,  3,  6]))\n"
     ]
    }
   ],
   "source": [
    "print(np.unique(r8.data.y[r8.data.train_mask].cpu(), return_counts=True))\n",
    "print(np.unique(r8.data.y[r8.data.val_mask].cpu(), return_counts=True))"
   ]
  },
  {
   "cell_type": "code",
   "execution_count": 14,
   "id": "b67071f0",
   "metadata": {},
   "outputs": [
    {
     "name": "stdout",
     "output_type": "stream",
     "text": [
      "tensor(0, device='cuda:0')\n",
      "tensor(1000, device='cuda:0')\n",
      "tensor(100, device='cuda:0')\n",
      "tensor(100, device='cuda:0')\n"
     ]
    }
   ],
   "source": [
    "print(sum(r8.data.val_mask * r8.data.train_mask * r8.data.test_mask))\n",
    "print(sum(r8.data.train_mask))\n",
    "print(sum(r8.data.val_mask))\n",
    "print(sum(r8.data.test_mask))"
   ]
  },
  {
   "cell_type": "code",
   "execution_count": 5,
   "id": "512c809e",
   "metadata": {},
   "outputs": [],
   "source": [
    "# GraphConv, GATConv\n",
    "import torch\n",
    "import torch.nn.functional as F\n",
    "from torch_geometric.nn import GCNConv, GraphConv\n",
    "\n",
    "class Net(torch.nn.Module):\n",
    "    def __init__(self):\n",
    "        super(Net, self).__init__()\n",
    "        self.conv1 = GCNConv(len(r8.iton), 200)\n",
    "        self.conv2 = GCNConv(200, 8)\n",
    "\n",
    "    def forward(self, data):\n",
    "        x, edge_index, edge_weight = data.x, data.edge_index, data.edge_attr\n",
    "        \n",
    "        x = self.conv1(x, edge_index, edge_weight)\n",
    "        x = F.relu(x)\n",
    "        x = F.dropout(x, training=self.training)\n",
    "        x = self.conv2(x, edge_index, edge_weight)\n",
    "        return x\n",
    "\n",
    "def eval(model, data, mask):\n",
    "    _, pred = model(data).max(dim=1)\n",
    "    #print(pred[mask])\n",
    "    #print(data.y[mask])\n",
    "    correct = pred[mask].eq(data.y[mask]).sum().item()\n",
    "    acc = correct / mask.sum()\n",
    "    print('Accuracy: {:.4f}'.format(acc))"
   ]
  },
  {
   "cell_type": "code",
   "execution_count": 6,
   "id": "4726a0ab",
   "metadata": {},
   "outputs": [
    {
     "data": {
      "text/plain": [
       "Data(edge_attr=[1203414], edge_index=[2, 1203414], test_mask=[12012], train_mask=[12012], val_mask=[12012], x=[12012, 12012], y=[12012])"
      ]
     },
     "execution_count": 6,
     "metadata": {},
     "output_type": "execute_result"
    }
   ],
   "source": [
    "model = Net()\n",
    "model = model.to(device)\n",
    "optimizer = torch.optim.Adam(model.parameters(), lr=0.1)#, weight_decay=5e-4)\n",
    "r8.data.to(device)"
   ]
  },
  {
   "cell_type": "code",
   "execution_count": 7,
   "id": "307e3254",
   "metadata": {},
   "outputs": [
    {
     "data": {
      "application/vnd.jupyter.widget-view+json": {
       "model_id": "bbd5851967ae4ddf8b988dad729b7057",
       "version_major": 2,
       "version_minor": 0
      },
      "text/plain": [
       "HBox(children=(FloatProgress(value=0.0, max=40.0), HTML(value='')))"
      ]
     },
     "metadata": {},
     "output_type": "display_data"
    },
    {
     "name": "stdout",
     "output_type": "stream",
     "text": [
      "Loss: 2.079538345336914\n",
      "(array([0, 1, 2, 3, 4, 5, 6, 7]), array([ 12,  18,  48,  35,  84, 674,  12, 117]))\n",
      "Accuracy: 0.4700\n",
      "Loss: 1.5973663330078125\n",
      "(array([2]), array([1000]))\n",
      "Accuracy: 0.4700\n",
      "Loss: 1.3868449926376343\n",
      "(array([2]), array([1000]))\n",
      "Accuracy: 0.4700\n",
      "Loss: 1.3185598850250244\n",
      "(array([2]), array([1000]))\n",
      "Accuracy: 0.7100\n",
      "Loss: 1.1617223024368286\n",
      "(array([0, 2]), array([384, 616]))\n",
      "Accuracy: 0.7500\n",
      "Loss: 1.0125423669815063\n",
      "(array([0, 2, 7]), array([466, 533,   1]))\n",
      "Accuracy: 0.7500\n",
      "Loss: 0.8748384118080139\n",
      "(array([0, 2, 7]), array([458, 540,   2]))\n",
      "Accuracy: 0.7600\n",
      "Loss: 0.7858579754829407\n",
      "(array([0, 2, 7]), array([460, 539,   1]))\n",
      "Accuracy: 0.7700\n",
      "Loss: 0.7126417756080627\n",
      "(array([0, 2, 7]), array([482, 515,   3]))\n",
      "Accuracy: 0.7900\n",
      "Loss: 0.6526361107826233\n",
      "(array([0, 2, 7]), array([463, 514,  23]))\n",
      "Accuracy: 0.8200\n",
      "Loss: 0.5878263115882874\n",
      "(array([0, 2, 7]), array([364, 517, 119]))\n",
      "Accuracy: 0.8000\n",
      "Loss: 0.5344322323799133\n",
      "(array([0, 2, 7]), array([288, 518, 194]))\n",
      "Accuracy: 0.8100\n",
      "Loss: 0.4859795868396759\n",
      "(array([0, 2, 7]), array([271, 498, 231]))\n",
      "Accuracy: 0.8000\n",
      "Loss: 0.44729289412498474\n",
      "(array([0, 2, 7]), array([271, 501, 228]))\n",
      "Accuracy: 0.7900\n",
      "Loss: 0.39542171359062195\n",
      "(array([0, 1, 2, 4, 7]), array([273,   2, 508,   2, 215]))\n",
      "Accuracy: 0.8100\n",
      "Loss: 0.34882763028144836\n",
      "(array([0, 1, 2, 4, 5, 6, 7]), array([273,   8, 510,   3,   1,   2, 203]))\n",
      "Accuracy: 0.8300\n",
      "Loss: 0.30606046319007874\n",
      "(array([0, 1, 2, 4, 5, 6, 7]), array([276,  19, 501,  22,   8,  16, 158]))\n",
      "Accuracy: 0.8500\n",
      "Loss: 0.2632026672363281\n",
      "(array([0, 1, 2, 4, 5, 6, 7]), array([273,  31, 483,  28,  14,  32, 139]))\n",
      "Accuracy: 0.8900\n",
      "Loss: 0.22854746878147125\n",
      "(array([0, 1, 2, 4, 5, 6, 7]), array([272,  34, 469,  40,  18,  34, 133]))\n",
      "Accuracy: 0.9000\n",
      "Loss: 0.193379208445549\n",
      "(array([0, 1, 2, 3, 4, 5, 6, 7]), array([272,  35, 466,   5,  36,  21,  35, 130]))\n",
      "Accuracy: 0.8800\n",
      "Loss: 0.1538413017988205\n",
      "(array([0, 1, 2, 3, 4, 5, 6, 7]), array([272,  36, 462,  11,  33,  19,  33, 134]))\n",
      "Accuracy: 0.9200\n",
      "Loss: 0.1271841675043106\n",
      "(array([0, 1, 2, 3, 4, 5, 6, 7]), array([272,  36, 464,  13,  30,  24,  34, 127]))\n",
      "Accuracy: 0.8800\n",
      "Loss: 0.10527894645929337\n",
      "(array([0, 1, 2, 3, 4, 5, 6, 7]), array([272,  36, 462,  16,  30,  27,  35, 122]))\n",
      "Accuracy: 0.9100\n",
      "Loss: 0.08254720270633698\n",
      "(array([0, 1, 2, 3, 4, 5, 6, 7]), array([272,  38, 463,  15,  32,  27,  34, 119]))\n",
      "Accuracy: 0.9300\n",
      "Loss: 0.06586769223213196\n",
      "(array([0, 1, 2, 3, 4, 5, 6, 7]), array([272,  38, 464,  13,  32,  29,  35, 117]))\n",
      "Accuracy: 0.9400\n",
      "Loss: 0.04998938739299774\n",
      "(array([0, 1, 2, 3, 4, 5, 6, 7]), array([272,  39, 464,  14,  32,  28,  35, 116]))\n",
      "Accuracy: 0.9200\n",
      "Loss: 0.035105686634778976\n",
      "(array([0, 1, 2, 3, 4, 5, 6, 7]), array([272,  38, 463,  14,  32,  31,  34, 116]))\n",
      "Accuracy: 0.9100\n",
      "Loss: 0.03227100893855095\n",
      "(array([0, 1, 2, 3, 4, 5, 6, 7]), array([272,  38, 461,  14,  35,  30,  34, 116]))\n",
      "Accuracy: 0.9200\n",
      "Loss: 0.023474253714084625\n",
      "(array([0, 1, 2, 3, 4, 5, 6, 7]), array([272,  38, 461,  15,  33,  31,  34, 116]))\n",
      "Accuracy: 0.9200\n",
      "Loss: 0.016394680365920067\n",
      "(array([0, 1, 2, 3, 4, 5, 6, 7]), array([272,  38, 461,  16,  33,  30,  34, 116]))\n",
      "Accuracy: 0.9200\n",
      "Loss: 0.013323042541742325\n",
      "(array([0, 1, 2, 3, 4, 5, 6, 7]), array([272,  38, 461,  16,  34,  29,  34, 116]))\n",
      "Accuracy: 0.9100\n",
      "Loss: 0.00935362372547388\n",
      "(array([0, 1, 2, 3, 4, 5, 6, 7]), array([272,  38, 461,  16,  33,  30,  34, 116]))\n",
      "Accuracy: 0.9400\n",
      "Loss: 0.008143790066242218\n",
      "(array([0, 1, 2, 3, 4, 5, 6, 7]), array([272,  38, 461,  16,  33,  30,  34, 116]))\n",
      "Accuracy: 0.9200\n",
      "Loss: 0.005460984073579311\n",
      "(array([0, 1, 2, 3, 4, 5, 6, 7]), array([272,  38, 461,  16,  33,  30,  34, 116]))\n",
      "Accuracy: 0.9200\n",
      "Loss: 0.006324233952909708\n",
      "(array([0, 1, 2, 3, 4, 5, 6, 7]), array([272,  38, 461,  16,  33,  30,  34, 116]))\n",
      "Accuracy: 0.9400\n",
      "Loss: 0.005120626650750637\n",
      "(array([0, 1, 2, 3, 4, 5, 6, 7]), array([272,  38, 461,  16,  33,  30,  34, 116]))\n",
      "Accuracy: 0.9400\n",
      "Loss: 0.0028620550874620676\n",
      "(array([0, 1, 2, 3, 4, 5, 6, 7]), array([272,  38, 461,  16,  33,  30,  34, 116]))\n",
      "Accuracy: 0.9400\n",
      "Loss: 0.0023295246064662933\n",
      "(array([0, 1, 2, 3, 4, 5, 6, 7]), array([272,  38, 461,  16,  33,  30,  34, 116]))\n",
      "Accuracy: 0.9500\n",
      "Loss: 0.0019448442617431283\n",
      "(array([0, 1, 2, 3, 4, 5, 6, 7]), array([272,  38, 461,  16,  33,  30,  34, 116]))\n",
      "Accuracy: 0.9300\n",
      "Loss: 0.0018333783373236656\n",
      "(array([0, 1, 2, 3, 4, 5, 6, 7]), array([272,  38, 461,  16,  33,  30,  34, 116]))\n",
      "Accuracy: 0.9300\n",
      "\n"
     ]
    }
   ],
   "source": [
    "from tqdm.notebook import tqdm\n",
    "\n",
    "model.train()\n",
    "for epoch in tqdm(range(40)):\n",
    "    optimizer.zero_grad()\n",
    "    out = model(r8.data)\n",
    "    # We might want to use the \"weight\" parameter for the loss with unbalanced dataset\n",
    "    # since with a low learning rate the model just assigns every doc to class \"earn\"\n",
    "    # https://pytorch.org/docs/stable/generated/torch.nn.CrossEntropyLoss.html\n",
    "    loss = F.cross_entropy(out[r8.data.train_mask], r8.data.y[r8.data.train_mask])\n",
    "    print('Loss:', loss.item())\n",
    "    loss.backward()\n",
    "    optimizer.step()\n",
    "    print(np.unique(out[r8.data.train_mask].max(dim=1)[1].detach().cpu().numpy(), return_counts=True))\n",
    "    #print(np.unique(r8.data.y[r8.data.train_mask].detach().cpu().numpy(), return_counts=True))\n",
    "    eval(model, r8.data, r8.data.val_mask)"
   ]
  },
  {
   "cell_type": "code",
   "execution_count": 8,
   "id": "bf770635",
   "metadata": {},
   "outputs": [
    {
     "name": "stdout",
     "output_type": "stream",
     "text": [
      "Accuracy: 0.9300\n"
     ]
    }
   ],
   "source": [
    "eval(model, r8.data, r8.data.test_mask)"
   ]
  },
  {
   "cell_type": "code",
   "execution_count": null,
   "id": "71d5323e",
   "metadata": {},
   "outputs": [],
   "source": []
  }
 ],
 "metadata": {
  "kernelspec": {
   "display_name": "Python 3",
   "language": "python",
   "name": "python3"
  },
  "language_info": {
   "codemirror_mode": {
    "name": "ipython",
    "version": 3
   },
   "file_extension": ".py",
   "mimetype": "text/x-python",
   "name": "python",
   "nbconvert_exporter": "python",
   "pygments_lexer": "ipython3",
   "version": "3.8.8"
  }
 },
 "nbformat": 4,
 "nbformat_minor": 5
}
