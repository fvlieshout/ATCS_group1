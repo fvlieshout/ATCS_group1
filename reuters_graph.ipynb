{
 "cells": [
  {
   "cell_type": "markdown",
   "id": "9dcea768",
   "metadata": {},
   "source": [
    "# Reuters Graph version\n",
    "\n",
    "### Sources\n",
    "- [Philipp tutorial](https://uvadlc-notebooks.readthedocs.io/en/latest/tutorial_notebooks/tutorial7/GNN_overview.html)\n",
    "- [pytorch-geometric](https://pytorch-geometric.readthedocs.io/en/latest/)\n",
    "- [nltk docs](https://www.nltk.org/book/ch02.html)"
   ]
  },
  {
   "cell_type": "code",
   "execution_count": 1,
   "id": "5373b31a",
   "metadata": {},
   "outputs": [
    {
     "name": "stderr",
     "output_type": "stream",
     "text": [
      "[nltk_data] Downloading package reuters to /home/matyi/nltk_data...\n",
      "[nltk_data]   Package reuters is already up-to-date!\n"
     ]
    }
   ],
   "source": [
    "import torch\n",
    "import numpy as np\n",
    "\n",
    "from datasets.reuters_graph import R8, R52\n",
    "\n",
    "device = torch.device(\"cuda:0\") if torch.cuda.is_available() else torch.cuda(\"cpu\")"
   ]
  },
  {
   "cell_type": "code",
   "execution_count": 2,
   "id": "c7a5e435",
   "metadata": {},
   "outputs": [
    {
     "name": "stdout",
     "output_type": "stream",
     "text": [
      "Prepare Reuters dataset\n",
      "Compute tf.idf\n",
      "Compute PMI scores\n",
      "Generate edges\n",
      "Generate masks\n",
      "Generate feature matrix\n",
      "Features mtx is 0.580713604 GBs in size\n"
     ]
    }
   ],
   "source": [
    "r8 = R8(device)"
   ]
  },
  {
   "cell_type": "code",
   "execution_count": 3,
   "id": "bc94fbc5",
   "metadata": {},
   "outputs": [
    {
     "name": "stdout",
     "output_type": "stream",
     "text": [
      "(array([0, 1, 2, 3, 4, 5, 6, 7]), array([265,  41, 470,  16,  24,  35,  29, 120]))\n",
      "(array([0, 1, 2, 4, 5, 6, 7]), array([31,  3, 56,  1,  4,  3,  2]))\n"
     ]
    }
   ],
   "source": [
    "print(np.unique(r8.data.y[r8.data.train_mask].cpu(), return_counts=True))\n",
    "print(np.unique(r8.data.y[r8.data.val_mask].cpu(), return_counts=True))"
   ]
  },
  {
   "cell_type": "code",
   "execution_count": 4,
   "id": "b67071f0",
   "metadata": {},
   "outputs": [
    {
     "name": "stdout",
     "output_type": "stream",
     "text": [
      "tensor(0, device='cuda:0')\n",
      "tensor(1000, device='cuda:0')\n",
      "tensor(100, device='cuda:0')\n",
      "tensor(100, device='cuda:0')\n"
     ]
    }
   ],
   "source": [
    "print(sum(r8.data.val_mask * r8.data.train_mask * r8.data.test_mask))\n",
    "print(sum(r8.data.train_mask))\n",
    "print(sum(r8.data.val_mask))\n",
    "print(sum(r8.data.test_mask))"
   ]
  },
  {
   "cell_type": "code",
   "execution_count": 5,
   "id": "512c809e",
   "metadata": {},
   "outputs": [],
   "source": [
    "# GraphConv, GATConv\n",
    "import torch\n",
    "import torch.nn.functional as F\n",
    "from torch_geometric.nn import GCNConv, GraphConv\n",
    "\n",
    "class Net(torch.nn.Module):\n",
    "    def __init__(self):\n",
    "        super(Net, self).__init__()\n",
    "        self.conv1 = GCNConv(len(r8.iton), 200)\n",
    "        self.conv2 = GCNConv(200, 8)\n",
    "\n",
    "    def forward(self, data):\n",
    "        x, edge_index, edge_weight = data.x, data.edge_index, data.edge_attr\n",
    "        \n",
    "        x = self.conv1(x, edge_index, edge_weight)\n",
    "        x = F.relu(x)\n",
    "        x = F.dropout(x, training=self.training)\n",
    "        x = self.conv2(x, edge_index, edge_weight)\n",
    "        return x\n",
    "\n",
    "def eval(model, data, mask):\n",
    "    _, pred = model(data).max(dim=1)\n",
    "    #print(pred[mask])\n",
    "    #print(data.y[mask])\n",
    "    correct = pred[mask].eq(data.y[mask]).sum().item()\n",
    "    acc = correct / mask.sum()\n",
    "    print('Accuracy: {:.4f}'.format(acc))"
   ]
  },
  {
   "cell_type": "code",
   "execution_count": 6,
   "id": "4726a0ab",
   "metadata": {},
   "outputs": [
    {
     "data": {
      "text/plain": [
       "Data(edge_attr=[1208572], edge_index=[2, 1208572], test_mask=[12049], train_mask=[12049], val_mask=[12049], x=[12049, 12049], y=[12049])"
      ]
     },
     "execution_count": 6,
     "metadata": {},
     "output_type": "execute_result"
    }
   ],
   "source": [
    "model = Net()\n",
    "model = model.to(device)\n",
    "optimizer = torch.optim.Adam(model.parameters(), lr=0.1)#, weight_decay=5e-4)\n",
    "r8.data.to(device)"
   ]
  },
  {
   "cell_type": "code",
   "execution_count": 7,
   "id": "307e3254",
   "metadata": {},
   "outputs": [
    {
     "data": {
      "application/vnd.jupyter.widget-view+json": {
       "model_id": "7c034ec5141849af9abc4f2391aaae13",
       "version_major": 2,
       "version_minor": 0
      },
      "text/plain": [
       "HBox(children=(HTML(value=''), FloatProgress(value=0.0, max=40.0), HTML(value='')))"
      ]
     },
     "metadata": {},
     "output_type": "display_data"
    },
    {
     "name": "stdout",
     "output_type": "stream",
     "text": [
      "Loss: 2.079289436340332\n",
      "(array([0, 1, 2, 3, 4, 5, 6, 7]), array([ 56,  10, 285, 430, 161,  12,  19,  27]))\n",
      "Accuracy: 0.5600\n",
      "Loss: 1.577468752861023\n",
      "(array([2]), array([1000]))\n",
      "Accuracy: 0.5600\n",
      "Loss: 1.3939603567123413\n",
      "(array([2]), array([1000]))\n",
      "Accuracy: 0.5600\n",
      "Loss: 1.3254753351211548\n",
      "(array([2]), array([1000]))\n",
      "Accuracy: 0.6400\n",
      "Loss: 1.1599255800247192\n",
      "(array([0, 2]), array([194, 806]))\n",
      "Accuracy: 0.8000\n",
      "Loss: 1.0375745296478271\n",
      "(array([0, 2]), array([481, 519]))\n",
      "Accuracy: 0.8200\n",
      "Loss: 0.9047172665596008\n",
      "(array([0, 2, 7]), array([444, 555,   1]))\n",
      "Accuracy: 0.8200\n",
      "Loss: 0.8084975481033325\n",
      "(array([0, 2, 7]), array([417, 577,   6]))\n",
      "Accuracy: 0.8200\n",
      "Loss: 0.7237847447395325\n",
      "(array([0, 2, 7]), array([410, 563,  27]))\n",
      "Accuracy: 0.8400\n",
      "Loss: 0.6571189165115356\n",
      "(array([0, 2, 7]), array([404, 533,  63]))\n",
      "Accuracy: 0.8600\n",
      "Loss: 0.5918500423431396\n",
      "(array([0, 2, 7]), array([333, 515, 152]))\n",
      "Accuracy: 0.8400\n",
      "Loss: 0.5329527854919434\n",
      "(array([0, 2, 7]), array([281, 498, 221]))\n",
      "Accuracy: 0.8200\n",
      "Loss: 0.4884302616119385\n",
      "(array([0, 2, 7]), array([270, 497, 233]))\n",
      "Accuracy: 0.8200\n",
      "Loss: 0.4464576542377472\n",
      "(array([0, 2, 7]), array([264, 502, 234]))\n",
      "Accuracy: 0.8300\n",
      "Loss: 0.3980768322944641\n",
      "(array([0, 2, 5, 7]), array([265, 512,   1, 222]))\n",
      "Accuracy: 0.8300\n",
      "Loss: 0.35413694381713867\n",
      "(array([0, 1, 2, 5, 7]), array([266,  12, 509,   4, 209]))\n",
      "Accuracy: 0.8400\n",
      "Loss: 0.3101828694343567\n",
      "(array([0, 1, 2, 3, 5, 7]), array([264,  28, 505,   1,  11, 191]))\n",
      "Accuracy: 0.8700\n",
      "Loss: 0.27376043796539307\n",
      "(array([0, 1, 2, 3, 4, 5, 6, 7]), array([265,  39, 492,   1,   7,  19,  14, 163]))\n",
      "Accuracy: 0.8900\n",
      "Loss: 0.23571081459522247\n",
      "(array([0, 1, 2, 3, 4, 5, 6, 7]), array([267,  39, 482,   2,  18,  22,  16, 154]))\n",
      "Accuracy: 0.9000\n",
      "Loss: 0.19182945787906647\n",
      "(array([0, 1, 2, 3, 4, 5, 6, 7]), array([267,  39, 470,   9,  18,  28,  23, 146]))\n",
      "Accuracy: 0.9000\n",
      "Loss: 0.15976466238498688\n",
      "(array([0, 1, 2, 3, 4, 5, 6, 7]), array([265,  39, 472,   9,  20,  26,  23, 146]))\n",
      "Accuracy: 0.8800\n",
      "Loss: 0.12499886751174927\n",
      "(array([0, 1, 2, 3, 4, 5, 6, 7]), array([265,  39, 470,  11,  24,  29,  27, 135]))\n",
      "Accuracy: 0.8800\n",
      "Loss: 0.1064835786819458\n",
      "(array([0, 1, 2, 3, 4, 5, 6, 7]), array([266,  40, 471,  15,  20,  34,  29, 125]))\n",
      "Accuracy: 0.9200\n",
      "Loss: 0.07896656543016434\n",
      "(array([0, 1, 2, 3, 4, 5, 6, 7]), array([265,  41, 471,  17,  22,  33,  29, 122]))\n",
      "Accuracy: 0.9200\n",
      "Loss: 0.061553895473480225\n",
      "(array([0, 1, 2, 3, 4, 5, 6, 7]), array([265,  41, 471,  15,  22,  36,  29, 121]))\n",
      "Accuracy: 0.9100\n",
      "Loss: 0.048036783933639526\n",
      "(array([0, 1, 2, 3, 4, 5, 6, 7]), array([265,  41, 472,  14,  24,  34,  29, 121]))\n",
      "Accuracy: 0.9200\n",
      "Loss: 0.03845791146159172\n",
      "(array([0, 1, 2, 3, 4, 5, 6, 7]), array([265,  41, 472,  15,  23,  34,  29, 121]))\n",
      "Accuracy: 0.8800\n",
      "Loss: 0.029930079355835915\n",
      "(array([0, 1, 2, 3, 4, 5, 6, 7]), array([265,  41, 471,  15,  24,  34,  29, 121]))\n",
      "Accuracy: 0.8700\n",
      "Loss: 0.021736595779657364\n",
      "(array([0, 1, 2, 3, 4, 5, 6, 7]), array([265,  41, 471,  15,  24,  34,  29, 121]))\n",
      "Accuracy: 0.9100\n",
      "Loss: 0.015781400725245476\n",
      "(array([0, 1, 2, 3, 4, 5, 6, 7]), array([265,  41, 470,  16,  24,  35,  29, 120]))\n",
      "Accuracy: 0.8900\n",
      "Loss: 0.013003232888877392\n",
      "(array([0, 1, 2, 3, 4, 5, 6, 7]), array([265,  41, 470,  16,  24,  34,  29, 121]))\n",
      "Accuracy: 0.8800\n",
      "Loss: 0.011081460863351822\n",
      "(array([0, 1, 2, 3, 4, 5, 6, 7]), array([265,  41, 470,  16,  24,  35,  29, 120]))\n",
      "Accuracy: 0.9200\n",
      "Loss: 0.008848470635712147\n",
      "(array([0, 1, 2, 3, 4, 5, 6, 7]), array([266,  41, 469,  16,  24,  35,  29, 120]))\n",
      "Accuracy: 0.9000\n",
      "Loss: 0.008351737633347511\n",
      "(array([0, 1, 2, 3, 4, 5, 6, 7]), array([265,  41, 470,  16,  24,  35,  29, 120]))\n",
      "Accuracy: 0.8900\n",
      "Loss: 0.005855238065123558\n",
      "(array([0, 1, 2, 3, 4, 5, 6, 7]), array([265,  41, 470,  16,  24,  35,  29, 120]))\n",
      "Accuracy: 0.9200\n",
      "Loss: 0.004545015282928944\n",
      "(array([0, 1, 2, 3, 4, 5, 6, 7]), array([265,  41, 470,  16,  24,  35,  29, 120]))\n",
      "Accuracy: 0.9000\n",
      "Loss: 0.004604425746947527\n",
      "(array([0, 1, 2, 3, 4, 5, 6, 7]), array([265,  41, 470,  15,  25,  35,  29, 120]))\n",
      "Accuracy: 0.9300\n",
      "Loss: 0.003072644816711545\n",
      "(array([0, 1, 2, 3, 4, 5, 6, 7]), array([265,  41, 470,  16,  24,  35,  29, 120]))\n",
      "Accuracy: 0.9000\n",
      "Loss: 0.0023283257614821196\n",
      "(array([0, 1, 2, 3, 4, 5, 6, 7]), array([265,  41, 470,  16,  24,  35,  29, 120]))\n",
      "Accuracy: 0.9100\n",
      "Loss: 0.001764403423294425\n",
      "(array([0, 1, 2, 3, 4, 5, 6, 7]), array([265,  41, 470,  16,  24,  35,  29, 120]))\n",
      "Accuracy: 0.9000\n",
      "\n"
     ]
    }
   ],
   "source": [
    "from tqdm.notebook import tqdm\n",
    "\n",
    "model.train()\n",
    "for epoch in tqdm(range(40)):\n",
    "    optimizer.zero_grad()\n",
    "    out = model(r8.data)\n",
    "    # We might want to use the \"weight\" parameter for the loss with unbalanced dataset\n",
    "    # since with a low learning rate the model just assigns every doc to class \"earn\"\n",
    "    # https://pytorch.org/docs/stable/generated/torch.nn.CrossEntropyLoss.html\n",
    "    loss = F.cross_entropy(out[r8.data.train_mask], r8.data.y[r8.data.train_mask])\n",
    "    print('Loss:', loss.item())\n",
    "    loss.backward()\n",
    "    optimizer.step()\n",
    "    print(np.unique(out[r8.data.train_mask].max(dim=1)[1].detach().cpu().numpy(), return_counts=True))\n",
    "    #print(np.unique(r8.data.y[r8.data.train_mask].detach().cpu().numpy(), return_counts=True))\n",
    "    eval(model, r8.data, r8.data.val_mask)"
   ]
  },
  {
   "cell_type": "code",
   "execution_count": 8,
   "id": "bf770635",
   "metadata": {},
   "outputs": [
    {
     "name": "stdout",
     "output_type": "stream",
     "text": [
      "Accuracy: 0.9000\n"
     ]
    }
   ],
   "source": [
    "eval(model, r8.data, r8.data.test_mask)"
   ]
  },
  {
   "cell_type": "code",
   "execution_count": null,
   "id": "71d5323e",
   "metadata": {},
   "outputs": [],
   "source": []
  }
 ],
 "metadata": {
  "kernelspec": {
   "display_name": "Python 3",
   "language": "python",
   "name": "python3"
  },
  "language_info": {
   "codemirror_mode": {
    "name": "ipython",
    "version": 3
   },
   "file_extension": ".py",
   "mimetype": "text/x-python",
   "name": "python",
   "nbconvert_exporter": "python",
   "pygments_lexer": "ipython3",
   "version": "3.8.5"
  }
 },
 "nbformat": 4,
 "nbformat_minor": 5
}
