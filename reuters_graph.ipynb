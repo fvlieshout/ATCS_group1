{
 "cells": [
  {
   "cell_type": "markdown",
   "id": "9dcea768",
   "metadata": {},
   "source": [
    "# Reuters Graph version\n",
    "\n",
    "### Sources\n",
    "- [Philipp tutorial](https://uvadlc-notebooks.readthedocs.io/en/latest/tutorial_notebooks/tutorial7/GNN_overview.html)\n",
    "- [pytorch-geometric](https://pytorch-geometric.readthedocs.io/en/latest/)\n",
    "- [nltk docs](https://www.nltk.org/book/ch02.html)"
   ]
  },
  {
   "cell_type": "code",
   "execution_count": 1,
   "id": "5373b31a",
   "metadata": {},
   "outputs": [
    {
     "name": "stderr",
     "output_type": "stream",
     "text": [
      "[nltk_data] Downloading package reuters to /home/mat/nltk_data...\n",
      "[nltk_data]   Package reuters is already up-to-date!\n"
     ]
    }
   ],
   "source": [
    "import torch\n",
    "import numpy as np\n",
    "\n",
    "from data_prep.reuters_graph import R8Graph, R52Graph\n",
    "\n",
    "device = torch.device(\"cuda:0\") if torch.cuda.is_available() else torch.device(\"cpu\")"
   ]
  },
  {
   "cell_type": "code",
   "execution_count": 2,
   "id": "c7a5e435",
   "metadata": {},
   "outputs": [
    {
     "name": "stdout",
     "output_type": "stream",
     "text": [
      "Prepare Reuters dataset\n",
      "Compute tf.idf\n",
      "Compute PMI scores\n",
      "Generate edges\n",
      "Generate masks\n",
      "Generate feature matrix\n",
      "Features mtx is 0.5672018560000001 GBs in size\n"
     ]
    }
   ],
   "source": [
    "r8 = R8Graph(device)"
   ]
  },
  {
   "cell_type": "code",
   "execution_count": 3,
   "id": "bc94fbc5",
   "metadata": {},
   "outputs": [
    {
     "name": "stdout",
     "output_type": "stream",
     "text": [
      "(array([0, 1, 2, 3, 4, 5, 6, 7]), array([259,  37, 482,  20,  27,  32,  27, 116]))\n",
      "(array([0, 1, 2, 3, 4, 5, 6, 7]), array([25,  7, 50,  1,  6,  3,  2,  6]))\n"
     ]
    }
   ],
   "source": [
    "print(np.unique(r8.data.y[r8.data.train_mask].cpu(), return_counts=True))\n",
    "print(np.unique(r8.data.y[r8.data.val_mask].cpu(), return_counts=True))"
   ]
  },
  {
   "cell_type": "code",
   "execution_count": 4,
   "id": "b67071f0",
   "metadata": {},
   "outputs": [
    {
     "name": "stdout",
     "output_type": "stream",
     "text": [
      "tensor(0, device='cuda:0')\n",
      "tensor(1000, device='cuda:0')\n",
      "tensor(100, device='cuda:0')\n",
      "tensor(100, device='cuda:0')\n"
     ]
    }
   ],
   "source": [
    "print(sum(r8.data.val_mask * r8.data.train_mask * r8.data.test_mask))\n",
    "print(sum(r8.data.train_mask))\n",
    "print(sum(r8.data.val_mask))\n",
    "print(sum(r8.data.test_mask))"
   ]
  },
  {
   "cell_type": "code",
   "execution_count": 5,
   "id": "512c809e",
   "metadata": {},
   "outputs": [],
   "source": [
    "# GraphConv, GATConv\n",
    "import torch\n",
    "import torch.nn.functional as F\n",
    "from torch_geometric.nn import GCNConv, GraphConv\n",
    "\n",
    "class Net(torch.nn.Module):\n",
    "    def __init__(self):\n",
    "        super(Net, self).__init__()\n",
    "        self.conv1 = GCNConv(len(r8.iton), 200)\n",
    "        self.conv2 = GCNConv(200, 8)\n",
    "\n",
    "    def forward(self, data):\n",
    "        x, edge_index, edge_weight = data.x, data.edge_index, data.edge_attr\n",
    "        \n",
    "        x = self.conv1(x, edge_index, edge_weight)\n",
    "        x = F.relu(x)\n",
    "        x = F.dropout(x, training=self.training)\n",
    "        x = self.conv2(x, edge_index, edge_weight)\n",
    "        return x\n",
    "\n",
    "def eval(model, data, mask):\n",
    "    _, pred = model(data).max(dim=1)\n",
    "    #print(pred[mask])\n",
    "    #print(data.y[mask])\n",
    "    correct = pred[mask].eq(data.y[mask]).sum().item()\n",
    "    acc = correct / mask.sum()\n",
    "    print('Accuracy: {:.4f}'.format(acc))"
   ]
  },
  {
   "cell_type": "code",
   "execution_count": 6,
   "id": "4726a0ab",
   "metadata": {},
   "outputs": [
    {
     "data": {
      "text/plain": [
       "Data(edge_attr=[1191234], edge_index=[2, 1191234], test_mask=[11908], train_mask=[11908], val_mask=[11908], x=[11908, 11908], y=[11908])"
      ]
     },
     "execution_count": 6,
     "metadata": {},
     "output_type": "execute_result"
    }
   ],
   "source": [
    "model = Net()\n",
    "model = model.to(device)\n",
    "optimizer = torch.optim.Adam(model.parameters(), lr=0.1)#, weight_decay=5e-4)\n",
    "r8.data.to(device)"
   ]
  },
  {
   "cell_type": "code",
   "execution_count": 7,
   "id": "307e3254",
   "metadata": {},
   "outputs": [
    {
     "data": {
      "application/vnd.jupyter.widget-view+json": {
       "model_id": "d6a7371676d4471ea557cb6f3724c60b",
       "version_major": 2,
       "version_minor": 0
      },
      "text/plain": [
       "HBox(children=(FloatProgress(value=0.0, max=40.0), HTML(value='')))"
      ]
     },
     "metadata": {},
     "output_type": "display_data"
    },
    {
     "name": "stdout",
     "output_type": "stream",
     "text": [
      "Loss: 2.0794546604156494\n",
      "(array([0, 1, 2, 3, 4, 5, 6, 7]), array([  8, 669,  94,  99,   1,  26,  81,  22]))\n",
      "Accuracy: 0.5000\n",
      "Loss: 1.5738054513931274\n",
      "(array([2]), array([1000]))\n",
      "Accuracy: 0.5000\n",
      "Loss: 1.3624327182769775\n",
      "(array([2]), array([1000]))\n",
      "Accuracy: 0.5000\n",
      "Loss: 1.299436092376709\n",
      "(array([2]), array([1000]))\n",
      "Accuracy: 0.6300\n",
      "Loss: 1.1411274671554565\n",
      "(array([0, 2]), array([273, 727]))\n",
      "Accuracy: 0.6700\n",
      "Loss: 0.9985102415084839\n",
      "(array([0, 2]), array([436, 564]))\n",
      "Accuracy: 0.6800\n",
      "Loss: 0.8667310476303101\n",
      "(array([0, 2, 7]), array([421, 578,   1]))\n",
      "Accuracy: 0.7000\n",
      "Loss: 0.7822335958480835\n",
      "(array([0, 2, 7]), array([408, 591,   1]))\n",
      "Accuracy: 0.6900\n",
      "Loss: 0.7161081433296204\n",
      "(array([0, 2, 7]), array([429, 570,   1]))\n",
      "Accuracy: 0.6900\n",
      "Loss: 0.660102367401123\n",
      "(array([0, 2, 7]), array([453, 544,   3]))\n",
      "Accuracy: 0.6900\n",
      "Loss: 0.6130087971687317\n",
      "(array([0, 2, 7]), array([431, 541,  28]))\n",
      "Accuracy: 0.7400\n",
      "Loss: 0.5579763054847717\n",
      "(array([0, 2, 7]), array([327, 537, 136]))\n",
      "Accuracy: 0.7400\n",
      "Loss: 0.5049262642860413\n",
      "(array([0, 2, 7]), array([267, 533, 200]))\n",
      "Accuracy: 0.7300\n",
      "Loss: 0.4682406783103943\n",
      "(array([0, 2, 7]), array([259, 517, 224]))\n",
      "Accuracy: 0.7300\n",
      "Loss: 0.43761926889419556\n",
      "(array([0, 2, 7]), array([257, 508, 235]))\n",
      "Accuracy: 0.7400\n",
      "Loss: 0.3967996835708618\n",
      "(array([0, 2, 7]), array([258, 507, 235]))\n",
      "Accuracy: 0.7800\n",
      "Loss: 0.3562489449977875\n",
      "(array([0, 1, 2, 5, 7]), array([260,   3, 521,   2, 214]))\n",
      "Accuracy: 0.7800\n",
      "Loss: 0.3179020583629608\n",
      "(array([0, 1, 2, 4, 5, 6, 7]), array([261,  14, 527,   1,   3,   1, 193]))\n",
      "Accuracy: 0.8000\n",
      "Loss: 0.28139275312423706\n",
      "(array([0, 1, 2, 3, 4, 5, 6, 7]), array([260,  25, 522,   5,   8,  11,   6, 163]))\n",
      "Accuracy: 0.8200\n",
      "Loss: 0.2481178343296051\n",
      "(array([0, 1, 2, 3, 4, 5, 6, 7]), array([262,  34, 498,   8,  20,  20,  17, 141]))\n",
      "Accuracy: 0.8100\n",
      "Loss: 0.2122807502746582\n",
      "(array([0, 1, 2, 3, 4, 5, 6, 7]), array([260,  38, 490,  13,  18,  28,  25, 128]))\n",
      "Accuracy: 0.8200\n",
      "Loss: 0.1735685020685196\n",
      "(array([0, 1, 2, 3, 4, 5, 6, 7]), array([259,  34, 484,  17,  27,  24,  27, 128]))\n",
      "Accuracy: 0.8000\n",
      "Loss: 0.14928250014781952\n",
      "(array([0, 1, 2, 3, 4, 5, 6, 7]), array([259,  36, 484,  18,  26,  26,  27, 124]))\n",
      "Accuracy: 0.8000\n",
      "Loss: 0.11977972090244293\n",
      "(array([0, 1, 2, 3, 4, 5, 6, 7]), array([259,  36, 482,  20,  24,  30,  26, 123]))\n",
      "Accuracy: 0.8000\n",
      "Loss: 0.09542921930551529\n",
      "(array([0, 1, 2, 3, 4, 5, 6, 7]), array([259,  34, 483,  19,  25,  32,  27, 121]))\n",
      "Accuracy: 0.8300\n",
      "Loss: 0.07514607906341553\n",
      "(array([0, 1, 2, 3, 4, 5, 6, 7]), array([259,  37, 483,  19,  27,  32,  27, 116]))\n",
      "Accuracy: 0.8500\n",
      "Loss: 0.056049246340990067\n",
      "(array([0, 1, 2, 3, 4, 5, 6, 7]), array([258,  37, 483,  20,  27,  32,  27, 116]))\n",
      "Accuracy: 0.8600\n",
      "Loss: 0.047373443841934204\n",
      "(array([0, 1, 2, 3, 4, 5, 6, 7]), array([258,  37, 483,  19,  27,  32,  27, 117]))\n",
      "Accuracy: 0.8300\n",
      "Loss: 0.036007944494485855\n",
      "(array([0, 1, 2, 3, 4, 5, 6, 7]), array([259,  37, 483,  20,  26,  32,  27, 116]))\n",
      "Accuracy: 0.8500\n",
      "Loss: 0.027621693909168243\n",
      "(array([0, 1, 2, 3, 4, 5, 6, 7]), array([258,  38, 482,  20,  27,  32,  27, 116]))\n",
      "Accuracy: 0.8300\n",
      "Loss: 0.021710427477955818\n",
      "(array([0, 1, 2, 3, 4, 5, 6, 7]), array([259,  37, 483,  19,  27,  32,  27, 116]))\n",
      "Accuracy: 0.8800\n",
      "Loss: 0.01624288037419319\n",
      "(array([0, 1, 2, 3, 4, 5, 6, 7]), array([259,  37, 482,  20,  27,  32,  27, 116]))\n",
      "Accuracy: 0.8800\n",
      "Loss: 0.013382703065872192\n",
      "(array([0, 1, 2, 3, 4, 5, 6, 7]), array([259,  37, 482,  20,  27,  32,  27, 116]))\n",
      "Accuracy: 0.8600\n",
      "Loss: 0.0083245187997818\n",
      "(array([0, 1, 2, 3, 4, 5, 6, 7]), array([259,  37, 482,  20,  27,  32,  27, 116]))\n",
      "Accuracy: 0.8800\n",
      "Loss: 0.00791263673454523\n",
      "(array([0, 1, 2, 3, 4, 5, 6, 7]), array([259,  37, 482,  20,  27,  32,  27, 116]))\n",
      "Accuracy: 0.8600\n",
      "Loss: 0.007539565674960613\n",
      "(array([0, 1, 2, 3, 4, 5, 6, 7]), array([259,  37, 482,  20,  27,  32,  27, 116]))\n",
      "Accuracy: 0.8500\n",
      "Loss: 0.005573868751525879\n",
      "(array([0, 1, 2, 3, 4, 5, 6, 7]), array([259,  37, 482,  20,  27,  32,  27, 116]))\n",
      "Accuracy: 0.8600\n",
      "Loss: 0.004246680997312069\n",
      "(array([0, 1, 2, 3, 4, 5, 6, 7]), array([259,  37, 482,  20,  27,  32,  27, 116]))\n",
      "Accuracy: 0.8800\n",
      "Loss: 0.003177034668624401\n",
      "(array([0, 1, 2, 3, 4, 5, 6, 7]), array([259,  37, 482,  20,  27,  32,  27, 116]))\n",
      "Accuracy: 0.8200\n",
      "Loss: 0.002913942327722907\n",
      "(array([0, 1, 2, 3, 4, 5, 6, 7]), array([259,  37, 482,  20,  27,  32,  27, 116]))\n",
      "Accuracy: 0.8600\n",
      "\n"
     ]
    }
   ],
   "source": [
    "from tqdm.notebook import tqdm\n",
    "\n",
    "model.train()\n",
    "for epoch in tqdm(range(40)):\n",
    "    optimizer.zero_grad()\n",
    "    out = model(r8.data)\n",
    "    # We might want to use the \"weight\" parameter for the loss with unbalanced dataset\n",
    "    # since with a low learning rate the model just assigns every doc to class \"earn\"\n",
    "    # https://pytorch.org/docs/stable/generated/torch.nn.CrossEntropyLoss.html\n",
    "    loss = F.cross_entropy(out[r8.data.train_mask], r8.data.y[r8.data.train_mask])\n",
    "    print('Loss:', loss.item())\n",
    "    loss.backward()\n",
    "    optimizer.step()\n",
    "    print(np.unique(out[r8.data.train_mask].max(dim=1)[1].detach().cpu().numpy(), return_counts=True))\n",
    "    #print(np.unique(r8.data.y[r8.data.train_mask].detach().cpu().numpy(), return_counts=True))\n",
    "    eval(model, r8.data, r8.data.val_mask)"
   ]
  },
  {
   "cell_type": "code",
   "execution_count": 8,
   "id": "bf770635",
   "metadata": {},
   "outputs": [
    {
     "name": "stdout",
     "output_type": "stream",
     "text": [
      "Accuracy: 0.8500\n"
     ]
    }
   ],
   "source": [
    "eval(model, r8.data, r8.data.test_mask)"
   ]
  },
  {
   "cell_type": "code",
   "execution_count": null,
   "id": "71d5323e",
   "metadata": {},
   "outputs": [],
   "source": []
  }
 ],
 "metadata": {
  "kernelspec": {
   "display_name": "Python 3",
   "language": "python",
   "name": "python3"
  },
  "language_info": {
   "codemirror_mode": {
    "name": "ipython",
    "version": 3
   },
   "file_extension": ".py",
   "mimetype": "text/x-python",
   "name": "python",
   "nbconvert_exporter": "python",
   "pygments_lexer": "ipython3",
   "version": "3.8.8"
  }
 },
 "nbformat": 4,
 "nbformat_minor": 5
}
