{
 "cells": [
  {
   "cell_type": "markdown",
   "id": "9dcea768",
   "metadata": {},
   "source": [
    "# Graph dataset examples\n",
    "\n",
    "### Sources\n",
    "- [Philipp tutorial](https://uvadlc-notebooks.readthedocs.io/en/latest/tutorial_notebooks/tutorial7/GNN_overview.html)\n",
    "- [pytorch-geometric](https://pytorch-geometric.readthedocs.io/en/latest/)\n",
    "- [nltk docs](https://www.nltk.org/book/ch02.html)"
   ]
  },
  {
   "cell_type": "code",
   "execution_count": 1,
   "id": "5373b31a",
   "metadata": {},
   "outputs": [
    {
     "name": "stderr",
     "output_type": "stream",
     "text": [
      "[nltk_data] Downloading package reuters to /home/mat/nltk_data...\n",
      "[nltk_data]   Package reuters is already up-to-date!\n"
     ]
    }
   ],
   "source": [
    "import torch\n",
    "import numpy as np\n",
    "\n",
    "from data_prep.agnews_graph import AGNewsGraph\n",
    "from data_prep.imdb_graph import IMDbGraph\n",
    "from data_prep.reuters_graph import R8Graph, R52Graph\n",
    "\n",
    "device = torch.device(\"cuda:0\") if torch.cuda.is_available() else torch.device(\"cpu\")"
   ]
  },
  {
   "cell_type": "code",
   "execution_count": 11,
   "id": "c7a5e435",
   "metadata": {},
   "outputs": [
    {
     "name": "stderr",
     "output_type": "stream",
     "text": [
      "Reusing dataset imdb (/home/mat/.cache/huggingface/datasets/imdb/plain_text/1.0.0/4ea52f2e58a08dbc12c2bd52d0d92b30b88c00230b4522801b3636782f625c5b)\n"
     ]
    },
    {
     "name": "stdout",
     "output_type": "stream",
     "text": [
      "Compute tf.idf\n",
      "Compute PMI scores\n",
      "Generate edges\n",
      "Generate masks\n",
      "Generate feature matrix\n",
      "Features mtx is 0.609892416 GBs in size\n"
     ]
    }
   ],
   "source": [
    "# dataset = AGNewsGraph(device, n_train_docs=1000)\n",
    "# dataset = R8Graph(device, n_train_docs=1000)\n",
    "# dataset = R52Graph(device, n_train_docs=300)\n",
    "dataset = IMDbGraph(device, n_train_docs=300)"
   ]
  },
  {
   "cell_type": "code",
   "execution_count": 12,
   "id": "a79e3fb1",
   "metadata": {},
   "outputs": [
    {
     "data": {
      "text/plain": [
       "2"
      ]
     },
     "execution_count": 12,
     "metadata": {},
     "output_type": "execute_result"
    }
   ],
   "source": [
    "dataset.num_classes"
   ]
  },
  {
   "cell_type": "code",
   "execution_count": 13,
   "id": "bc94fbc5",
   "metadata": {},
   "outputs": [
    {
     "name": "stdout",
     "output_type": "stream",
     "text": [
      "(array([0, 1]), array([139, 161]))\n",
      "(array([0, 1]), array([ 9, 21]))\n"
     ]
    }
   ],
   "source": [
    "print(np.unique(dataset.data.y[dataset.data.train_mask].cpu(), return_counts=True))\n",
    "print(np.unique(dataset.data.y[dataset.data.val_mask].cpu(), return_counts=True))"
   ]
  },
  {
   "cell_type": "code",
   "execution_count": 14,
   "id": "b67071f0",
   "metadata": {},
   "outputs": [
    {
     "name": "stdout",
     "output_type": "stream",
     "text": [
      "tensor(0, device='cuda:0')\n",
      "tensor(300, device='cuda:0')\n",
      "tensor(30, device='cuda:0')\n",
      "tensor(30, device='cuda:0')\n"
     ]
    }
   ],
   "source": [
    "print(sum(dataset.data.val_mask * dataset.data.train_mask * dataset.data.test_mask))\n",
    "print(sum(dataset.data.train_mask))\n",
    "print(sum(dataset.data.val_mask))\n",
    "print(sum(dataset.data.test_mask))"
   ]
  },
  {
   "cell_type": "code",
   "execution_count": 15,
   "id": "512c809e",
   "metadata": {},
   "outputs": [],
   "source": [
    "# GraphConv, GATConv\n",
    "import torch\n",
    "import torch.nn.functional as F\n",
    "from torch_geometric.nn import GCNConv, GraphConv\n",
    "\n",
    "class Net(torch.nn.Module):\n",
    "    def __init__(self):\n",
    "        super(Net, self).__init__()\n",
    "        self.conv1 = GCNConv(len(dataset.iton), 200)\n",
    "        self.conv2 = GCNConv(200, dataset.num_classes)\n",
    "\n",
    "    def forward(self, data):\n",
    "        x, edge_index, edge_weight = data.x, data.edge_index, data.edge_attr\n",
    "        \n",
    "        x = self.conv1(x, edge_index, edge_weight)\n",
    "        x = F.relu(x)\n",
    "        x = F.dropout(x, training=self.training)\n",
    "        x = self.conv2(x, edge_index, edge_weight)\n",
    "        return x\n",
    "\n",
    "def eval(model, data, mask):\n",
    "    out = model(data)\n",
    "#     print(out.size())\n",
    "    _, pred = out.max(dim=1)\n",
    "#     print(\"out\", out[mask])\n",
    "#     print(\"pred\", pred[mask])\n",
    "#     print(pred[mask].size())\n",
    "    #print(data.y[mask])\n",
    "    correct = pred[mask].eq(data.y[mask]).sum().item()\n",
    "    acc = correct / mask.sum()\n",
    "    print('Accuracy: {:.4f}'.format(acc))"
   ]
  },
  {
   "cell_type": "code",
   "execution_count": 16,
   "id": "4726a0ab",
   "metadata": {},
   "outputs": [
    {
     "data": {
      "text/plain": [
       "Data(edge_attr=[1010862], edge_index=[2, 1010862], test_mask=[12348], train_mask=[12348], val_mask=[12348], x=[12348, 12348], y=[12348])"
      ]
     },
     "execution_count": 16,
     "metadata": {},
     "output_type": "execute_result"
    }
   ],
   "source": [
    "model = Net()\n",
    "model = model.to(device)\n",
    "optimizer = torch.optim.Adam(model.parameters(), lr=0.1)#, weight_decay=5e-4)\n",
    "dataset.data.to(device)"
   ]
  },
  {
   "cell_type": "code",
   "execution_count": 17,
   "id": "d58e9406",
   "metadata": {},
   "outputs": [
    {
     "name": "stdout",
     "output_type": "stream",
     "text": [
      "Accuracy: 0.3333\n"
     ]
    }
   ],
   "source": [
    "eval(model, dataset.data, dataset.data.val_mask)"
   ]
  },
  {
   "cell_type": "code",
   "execution_count": 18,
   "id": "307e3254",
   "metadata": {},
   "outputs": [
    {
     "data": {
      "application/vnd.jupyter.widget-view+json": {
       "model_id": "54cf32e4066647709341f9ab9b350d0e",
       "version_major": 2,
       "version_minor": 0
      },
      "text/plain": [
       "HBox(children=(FloatProgress(value=0.0, max=40.0), HTML(value='')))"
      ]
     },
     "metadata": {},
     "output_type": "display_data"
    },
    {
     "name": "stdout",
     "output_type": "stream",
     "text": [
      "Loss: 0.6931571960449219\n",
      "(array([0, 1]), array([281,  19]))\n",
      "Accuracy: 0.7000\n",
      "Loss: 0.7331043481826782\n",
      "(array([1]), array([300]))\n",
      "Accuracy: 0.7000\n",
      "Loss: 0.6677138805389404\n",
      "(array([1]), array([300]))\n",
      "Accuracy: 0.3000\n",
      "Loss: 0.686011552810669\n",
      "(array([0, 1]), array([212,  88]))\n",
      "Accuracy: 0.3000\n",
      "Loss: 0.6865906119346619\n",
      "(array([0, 1]), array([286,  14]))\n",
      "Accuracy: 0.3000\n",
      "Loss: 0.6772840619087219\n",
      "(array([0, 1]), array([242,  58]))\n",
      "Accuracy: 0.5000\n",
      "Loss: 0.655045747756958\n",
      "(array([0, 1]), array([142, 158]))\n",
      "Accuracy: 0.7000\n",
      "Loss: 0.6209892630577087\n",
      "(array([0, 1]), array([  2, 298]))\n",
      "Accuracy: 0.7000\n",
      "Loss: 0.587864875793457\n",
      "(array([1]), array([300]))\n",
      "Accuracy: 0.7000\n",
      "Loss: 0.5621703863143921\n",
      "(array([1]), array([300]))\n",
      "Accuracy: 0.7000\n",
      "Loss: 0.5264880061149597\n",
      "(array([1]), array([300]))\n",
      "Accuracy: 0.7000\n",
      "Loss: 0.46876031160354614\n",
      "(array([0, 1]), array([  6, 294]))\n",
      "Accuracy: 0.6667\n",
      "Loss: 0.40634408593177795\n",
      "(array([0, 1]), array([121, 179]))\n",
      "Accuracy: 0.6667\n",
      "Loss: 0.36764416098594666\n",
      "(array([0, 1]), array([138, 162]))\n",
      "Accuracy: 0.5667\n",
      "Loss: 0.3304987847805023\n",
      "(array([0, 1]), array([139, 161]))\n",
      "Accuracy: 0.5667\n",
      "Loss: 0.28878408670425415\n",
      "(array([0, 1]), array([139, 161]))\n",
      "Accuracy: 0.5667\n",
      "Loss: 0.2429952770471573\n",
      "(array([0, 1]), array([139, 161]))\n",
      "Accuracy: 0.6333\n",
      "Loss: 0.2022397369146347\n",
      "(array([0, 1]), array([139, 161]))\n",
      "Accuracy: 0.6333\n",
      "Loss: 0.16192157566547394\n",
      "(array([0, 1]), array([139, 161]))\n",
      "Accuracy: 0.5667\n",
      "Loss: 0.1265001744031906\n",
      "(array([0, 1]), array([139, 161]))\n",
      "Accuracy: 0.5333\n",
      "Loss: 0.09514212608337402\n",
      "(array([0, 1]), array([139, 161]))\n",
      "Accuracy: 0.5000\n",
      "Loss: 0.06913218647241592\n",
      "(array([0, 1]), array([139, 161]))\n",
      "Accuracy: 0.4667\n",
      "Loss: 0.0482422336935997\n",
      "(array([0, 1]), array([139, 161]))\n",
      "Accuracy: 0.4667\n",
      "Loss: 0.033940184861421585\n",
      "(array([0, 1]), array([139, 161]))\n",
      "Accuracy: 0.4667\n",
      "Loss: 0.025563329458236694\n",
      "(array([0, 1]), array([139, 161]))\n",
      "Accuracy: 0.4667\n",
      "Loss: 0.018621327355504036\n",
      "(array([0, 1]), array([139, 161]))\n",
      "Accuracy: 0.5000\n",
      "Loss: 0.014579993672668934\n",
      "(array([0, 1]), array([139, 161]))\n",
      "Accuracy: 0.5000\n",
      "Loss: 0.009883929044008255\n",
      "(array([0, 1]), array([139, 161]))\n",
      "Accuracy: 0.5000\n",
      "Loss: 0.006940058898180723\n",
      "(array([0, 1]), array([139, 161]))\n",
      "Accuracy: 0.4667\n",
      "Loss: 0.005244502332061529\n",
      "(array([0, 1]), array([139, 161]))\n",
      "Accuracy: 0.4667\n",
      "Loss: 0.004795457236468792\n",
      "(array([0, 1]), array([139, 161]))\n",
      "Accuracy: 0.5000\n",
      "Loss: 0.0025400156155228615\n",
      "(array([0, 1]), array([139, 161]))\n",
      "Accuracy: 0.5000\n",
      "Loss: 0.0029520655516535044\n",
      "(array([0, 1]), array([139, 161]))\n",
      "Accuracy: 0.4667\n",
      "Loss: 0.0018847081810235977\n",
      "(array([0, 1]), array([139, 161]))\n",
      "Accuracy: 0.5000\n",
      "Loss: 0.0020900440867990255\n",
      "(array([0, 1]), array([139, 161]))\n",
      "Accuracy: 0.5000\n",
      "Loss: 0.0013697659596800804\n",
      "(array([0, 1]), array([139, 161]))\n",
      "Accuracy: 0.5000\n",
      "Loss: 0.001172215910628438\n",
      "(array([0, 1]), array([139, 161]))\n",
      "Accuracy: 0.4667\n",
      "Loss: 0.0010274284286424518\n",
      "(array([0, 1]), array([139, 161]))\n",
      "Accuracy: 0.5667\n",
      "Loss: 0.0007412403938360512\n",
      "(array([0, 1]), array([139, 161]))\n",
      "Accuracy: 0.4667\n",
      "Loss: 0.0007726838812232018\n",
      "(array([0, 1]), array([139, 161]))\n",
      "Accuracy: 0.4667\n",
      "\n"
     ]
    }
   ],
   "source": [
    "from tqdm.notebook import tqdm\n",
    "\n",
    "model.train()\n",
    "for epoch in tqdm(range(40)):\n",
    "    optimizer.zero_grad()\n",
    "    out = model(dataset.data)\n",
    "    # We might want to use the \"weight\" parameter for the loss with unbalanced dataset\n",
    "    # since with a low learning rate the model just assigns every doc to class \"earn\"\n",
    "    # https://pytorch.org/docs/stable/generated/torch.nn.CrossEntropyLoss.html\n",
    "    loss = F.cross_entropy(out[dataset.data.train_mask], dataset.data.y[dataset.data.train_mask])\n",
    "    print('Loss:', loss.item())\n",
    "    loss.backward()\n",
    "    optimizer.step()\n",
    "    print(np.unique(out[dataset.data.train_mask].max(dim=1)[1].detach().cpu().numpy(), return_counts=True))\n",
    "    #print(np.unique(r8.data.y[r8.data.train_mask].detach().cpu().numpy(), return_counts=True))\n",
    "    eval(model, dataset.data, dataset.data.val_mask)\n",
    "#     break"
   ]
  },
  {
   "cell_type": "code",
   "execution_count": 19,
   "id": "bf770635",
   "metadata": {},
   "outputs": [
    {
     "name": "stdout",
     "output_type": "stream",
     "text": [
      "Accuracy: 0.5333\n"
     ]
    }
   ],
   "source": [
    "eval(model, dataset.data, dataset.data.test_mask)"
   ]
  },
  {
   "cell_type": "code",
   "execution_count": null,
   "id": "71d5323e",
   "metadata": {},
   "outputs": [],
   "source": []
  }
 ],
 "metadata": {
  "kernelspec": {
   "display_name": "Python 3",
   "language": "python",
   "name": "python3"
  },
  "language_info": {
   "codemirror_mode": {
    "name": "ipython",
    "version": 3
   },
   "file_extension": ".py",
   "mimetype": "text/x-python",
   "name": "python",
   "nbconvert_exporter": "python",
   "pygments_lexer": "ipython3",
   "version": "3.8.8"
  }
 },
 "nbformat": 4,
 "nbformat_minor": 5
}
