{
 "cells": [
  {
   "cell_type": "markdown",
   "id": "9dcea768",
   "metadata": {},
   "source": [
    "# AGNews Graph version\n",
    "\n",
    "### Sources\n",
    "- Mátyás Reuters Graph notebook"
   ]
  },
  {
   "cell_type": "code",
   "execution_count": 1,
   "id": "5373b31a",
   "metadata": {},
   "outputs": [],
   "source": [
    "import torch\n",
    "import numpy as np\n",
    "\n",
    "from data_prep.agnews_graph import AGNewsGraph\n",
    "\n",
    "device = torch.device(\"cuda:0\") if torch.cuda.is_available() else torch.cuda(\"cpu\")"
   ]
  },
  {
   "cell_type": "code",
   "execution_count": 2,
   "id": "c7a5e435",
   "metadata": {},
   "outputs": [
    {
     "name": "stdout",
     "output_type": "stream",
     "text": [
      "Prepare AGNews dataset\n"
     ]
    },
    {
     "name": "stderr",
     "output_type": "stream",
     "text": [
      "Using custom data configuration default\n",
      "Reusing dataset ag_news (/home/mat/.cache/huggingface/datasets/ag_news/default/0.0.0/0eeeaaa5fb6dffd81458e293dfea1adba2881ffcbdc3fb56baeb5a892566c29a)\n"
     ]
    },
    {
     "name": "stdout",
     "output_type": "stream",
     "text": [
      "Compute tf.idf\n",
      "Compute PMI scores\n",
      "Generate edges\n",
      "Generate masks\n",
      "Generate feature matrix\n",
      "Features mtx is 0.5602689000000001 GBs in size\n"
     ]
    }
   ],
   "source": [
    "agnews = AGNewsGraph(device)"
   ]
  },
  {
   "cell_type": "code",
   "execution_count": 3,
   "id": "bc94fbc5",
   "metadata": {},
   "outputs": [
    {
     "name": "stdout",
     "output_type": "stream",
     "text": [
      "(array([0, 1, 2, 3]), array([265, 232, 223, 280]))\n",
      "(array([0, 1, 2, 3]), array([30, 29, 15, 26]))\n"
     ]
    }
   ],
   "source": [
    "print(np.unique(agnews.data.y[agnews.data.train_mask].cpu(), return_counts=True))\n",
    "print(np.unique(agnews.data.y[agnews.data.val_mask].cpu(), return_counts=True))"
   ]
  },
  {
   "cell_type": "code",
   "execution_count": 4,
   "id": "b67071f0",
   "metadata": {},
   "outputs": [
    {
     "name": "stdout",
     "output_type": "stream",
     "text": [
      "tensor(0, device='cuda:0')\n",
      "tensor(1000, device='cuda:0')\n",
      "tensor(100, device='cuda:0')\n",
      "tensor(100, device='cuda:0')\n"
     ]
    }
   ],
   "source": [
    "print(sum(agnews.data.val_mask * agnews.data.train_mask * agnews.data.test_mask))\n",
    "print(sum(agnews.data.train_mask))\n",
    "print(sum(agnews.data.val_mask))\n",
    "print(sum(agnews.data.test_mask))"
   ]
  },
  {
   "cell_type": "code",
   "execution_count": 5,
   "id": "512c809e",
   "metadata": {},
   "outputs": [],
   "source": [
    "# GraphConv, GATConv\n",
    "import torch\n",
    "import torch.nn.functional as F\n",
    "from torch_geometric.nn import GCNConv, GraphConv\n",
    "\n",
    "class Net(torch.nn.Module):\n",
    "    def __init__(self):\n",
    "        super(Net, self).__init__()\n",
    "        self.conv1 = GCNConv(len(agnews.iton), 200)\n",
    "        self.conv2 = GCNConv(200, 8)\n",
    "\n",
    "    def forward(self, data):\n",
    "        x, edge_index, edge_weight = data.x, data.edge_index, data.edge_attr\n",
    "        \n",
    "        x = self.conv1(x, edge_index, edge_weight)\n",
    "        x = F.relu(x)\n",
    "        x = F.dropout(x, training=self.training)\n",
    "        x = self.conv2(x, edge_index, edge_weight)\n",
    "        return x\n",
    "\n",
    "def eval(model, data, mask):\n",
    "    _, pred = model(data).max(dim=1)\n",
    "    #print(pred[mask])\n",
    "    #print(data.y[mask])\n",
    "    correct = pred[mask].eq(data.y[mask]).sum().item()\n",
    "    acc = correct / mask.sum()\n",
    "    print('Accuracy: {:.4f}'.format(acc))"
   ]
  },
  {
   "cell_type": "code",
   "execution_count": 6,
   "id": "4726a0ab",
   "metadata": {},
   "outputs": [
    {
     "data": {
      "text/plain": [
       "Data(edge_attr=[694850], edge_index=[2, 694850], test_mask=[11835], train_mask=[11835], val_mask=[11835], x=[11835, 11835], y=[11835])"
      ]
     },
     "execution_count": 6,
     "metadata": {},
     "output_type": "execute_result"
    }
   ],
   "source": [
    "model = Net()\n",
    "model = model.to(device)\n",
    "optimizer = torch.optim.Adam(model.parameters(), lr=0.1)#, weight_decay=5e-4)\n",
    "agnews.data.to(device)"
   ]
  },
  {
   "cell_type": "code",
   "execution_count": 7,
   "id": "307e3254",
   "metadata": {},
   "outputs": [
    {
     "data": {
      "application/vnd.jupyter.widget-view+json": {
       "model_id": "8c11d7305502465894a95706c3f3be1e",
       "version_major": 2,
       "version_minor": 0
      },
      "text/plain": [
       "HBox(children=(FloatProgress(value=0.0, max=40.0), HTML(value='')))"
      ]
     },
     "metadata": {},
     "output_type": "display_data"
    },
    {
     "name": "stdout",
     "output_type": "stream",
     "text": [
      "Loss: 2.0793919563293457\n",
      "(array([0, 1, 2, 3, 4, 5, 6, 7]), array([131, 187,  41, 105,   4, 199, 148, 185]))\n",
      "Accuracy: 0.6000\n",
      "Loss: 1.6143388748168945\n",
      "(array([0, 1, 2, 3]), array([338, 177,  90, 395]))\n",
      "Accuracy: 0.4700\n",
      "Loss: 1.3217287063598633\n",
      "(array([0, 1, 3]), array([487,   3, 510]))\n",
      "Accuracy: 0.4400\n",
      "Loss: 1.1469839811325073\n",
      "(array([0, 1, 2, 3]), array([245, 172,  71, 512]))\n",
      "Accuracy: 0.6500\n",
      "Loss: 0.937404453754425\n",
      "(array([0, 1, 2, 3]), array([246, 250, 247, 257]))\n",
      "Accuracy: 0.7600\n",
      "Loss: 0.7050908803939819\n",
      "(array([0, 1, 2, 3]), array([285, 232, 181, 302]))\n",
      "Accuracy: 0.7900\n",
      "Loss: 0.47222384810447693\n",
      "(array([0, 1, 2, 3]), array([257, 233, 209, 301]))\n",
      "Accuracy: 0.7800\n",
      "Loss: 0.3010525405406952\n",
      "(array([0, 1, 2, 3]), array([256, 234, 236, 274]))\n",
      "Accuracy: 0.8200\n",
      "Loss: 0.17584934830665588\n",
      "(array([0, 1, 2, 3]), array([260, 234, 218, 288]))\n",
      "Accuracy: 0.8100\n",
      "Loss: 0.10398869961500168\n",
      "(array([0, 1, 2, 3]), array([263, 233, 217, 287]))\n",
      "Accuracy: 0.8400\n",
      "Loss: 0.06586113572120667\n",
      "(array([0, 1, 2, 3]), array([260, 233, 227, 280]))\n",
      "Accuracy: 0.8000\n",
      "Loss: 0.048320379108190536\n",
      "(array([0, 1, 2, 3]), array([258, 233, 229, 280]))\n",
      "Accuracy: 0.8300\n",
      "Loss: 0.031255804002285004\n",
      "(array([0, 1, 2, 3]), array([261, 232, 226, 281]))\n",
      "Accuracy: 0.7900\n",
      "Loss: 0.017156844958662987\n",
      "(array([0, 1, 2, 3]), array([265, 232, 222, 281]))\n",
      "Accuracy: 0.8000\n",
      "Loss: 0.014436168596148491\n",
      "(array([0, 1, 2, 3]), array([265, 232, 219, 284]))\n",
      "Accuracy: 0.8200\n",
      "Loss: 0.008216049522161484\n",
      "(array([0, 1, 2, 3]), array([265, 232, 222, 281]))\n",
      "Accuracy: 0.8400\n",
      "Loss: 0.006447553634643555\n",
      "(array([0, 1, 2, 3]), array([265, 232, 222, 281]))\n",
      "Accuracy: 0.8400\n",
      "Loss: 0.002574850106611848\n",
      "(array([0, 1, 2, 3]), array([265, 232, 223, 280]))\n",
      "Accuracy: 0.8000\n",
      "Loss: 0.0029463546816259623\n",
      "(array([0, 1, 2, 3]), array([265, 232, 223, 280]))\n",
      "Accuracy: 0.8200\n",
      "Loss: 0.0022098079789429903\n",
      "(array([0, 1, 2, 3]), array([265, 232, 223, 280]))\n",
      "Accuracy: 0.8100\n",
      "Loss: 0.002063820604234934\n",
      "(array([0, 1, 2, 3]), array([265, 232, 223, 280]))\n",
      "Accuracy: 0.8100\n",
      "Loss: 0.0006986062508076429\n",
      "(array([0, 1, 2, 3]), array([265, 232, 223, 280]))\n",
      "Accuracy: 0.8200\n",
      "Loss: 0.0021040814463049173\n",
      "(array([0, 1, 2, 3]), array([265, 232, 224, 279]))\n",
      "Accuracy: 0.8100\n",
      "Loss: 0.000730152940377593\n",
      "(array([0, 1, 2, 3]), array([265, 232, 223, 280]))\n",
      "Accuracy: 0.8400\n",
      "Loss: 0.0004628558235708624\n",
      "(array([0, 1, 2, 3]), array([265, 232, 223, 280]))\n",
      "Accuracy: 0.8100\n",
      "Loss: 0.000274369289400056\n",
      "(array([0, 1, 2, 3]), array([265, 232, 223, 280]))\n",
      "Accuracy: 0.8300\n",
      "Loss: 0.0004128720029257238\n",
      "(array([0, 1, 2, 3]), array([265, 232, 223, 280]))\n",
      "Accuracy: 0.8300\n",
      "Loss: 0.0004472407454159111\n",
      "(array([0, 1, 2, 3]), array([265, 232, 223, 280]))\n",
      "Accuracy: 0.8000\n",
      "Loss: 0.0003234559262637049\n",
      "(array([0, 1, 2, 3]), array([265, 232, 223, 280]))\n",
      "Accuracy: 0.8300\n",
      "Loss: 0.00016383240290451795\n",
      "(array([0, 1, 2, 3]), array([265, 232, 223, 280]))\n",
      "Accuracy: 0.7900\n",
      "Loss: 0.0001665077725192532\n",
      "(array([0, 1, 2, 3]), array([265, 232, 223, 280]))\n",
      "Accuracy: 0.8500\n",
      "Loss: 0.0015354917850345373\n",
      "(array([0, 1, 2, 3]), array([265, 232, 222, 281]))\n",
      "Accuracy: 0.8100\n",
      "Loss: 0.00010851737897610292\n",
      "(array([0, 1, 2, 3]), array([265, 232, 223, 280]))\n",
      "Accuracy: 0.8000\n",
      "Loss: 9.916082490235567e-05\n",
      "(array([0, 1, 2, 3]), array([265, 232, 223, 280]))\n",
      "Accuracy: 0.7800\n",
      "Loss: 0.00012051212252117693\n",
      "(array([0, 1, 2, 3]), array([265, 232, 223, 280]))\n",
      "Accuracy: 0.7900\n",
      "Loss: 7.679998816456646e-05\n",
      "(array([0, 1, 2, 3]), array([265, 232, 223, 280]))\n",
      "Accuracy: 0.8200\n",
      "Loss: 9.569386747898534e-05\n",
      "(array([0, 1, 2, 3]), array([265, 232, 223, 280]))\n",
      "Accuracy: 0.8200\n",
      "Loss: 6.778355600545183e-05\n",
      "(array([0, 1, 2, 3]), array([265, 232, 223, 280]))\n",
      "Accuracy: 0.8100\n",
      "Loss: 7.394124259008095e-05\n",
      "(array([0, 1, 2, 3]), array([265, 232, 223, 280]))\n",
      "Accuracy: 0.8300\n",
      "Loss: 3.390499114175327e-05\n",
      "(array([0, 1, 2, 3]), array([265, 232, 223, 280]))\n",
      "Accuracy: 0.7900\n",
      "\n"
     ]
    }
   ],
   "source": [
    "from tqdm.notebook import tqdm\n",
    "\n",
    "model.train()\n",
    "for epoch in tqdm(range(40)):\n",
    "    optimizer.zero_grad()\n",
    "    out = model(agnews.data)\n",
    "    # We might want to use the \"weight\" parameter for the loss with unbalanced dataset\n",
    "    # since with a low learning rate the model just assigns every doc to class \"earn\"\n",
    "    # https://pytorch.org/docs/stable/generated/torch.nn.CrossEntropyLoss.html\n",
    "    loss = F.cross_entropy(out[agnews.data.train_mask], agnews.data.y[agnews.data.train_mask])\n",
    "    print('Loss:', loss.item())\n",
    "    loss.backward()\n",
    "    optimizer.step()\n",
    "    print(np.unique(out[agnews.data.train_mask].max(dim=1)[1].detach().cpu().numpy(), return_counts=True))\n",
    "    #print(np.unique(r8.data.y[r8.data.train_mask].detach().cpu().numpy(), return_counts=True))\n",
    "    eval(model, agnews.data, agnews.data.val_mask)"
   ]
  },
  {
   "cell_type": "code",
   "execution_count": 8,
   "id": "bf770635",
   "metadata": {},
   "outputs": [
    {
     "name": "stdout",
     "output_type": "stream",
     "text": [
      "Accuracy: 0.8100\n"
     ]
    }
   ],
   "source": [
    "eval(model, agnews.data, agnews.data.test_mask)"
   ]
  },
  {
   "cell_type": "code",
   "execution_count": null,
   "id": "71d5323e",
   "metadata": {},
   "outputs": [],
   "source": []
  }
 ],
 "metadata": {
  "kernelspec": {
   "display_name": "Python 3",
   "language": "python",
   "name": "python3"
  },
  "language_info": {
   "codemirror_mode": {
    "name": "ipython",
    "version": 3
   },
   "file_extension": ".py",
   "mimetype": "text/x-python",
   "name": "python",
   "nbconvert_exporter": "python",
   "pygments_lexer": "ipython3",
   "version": "3.8.8"
  }
 },
 "nbformat": 4,
 "nbformat_minor": 5
}
