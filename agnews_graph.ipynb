{
 "cells": [
  {
   "cell_type": "markdown",
   "id": "9dcea768",
   "metadata": {},
   "source": [
    "# AGNews Graph version\n",
    "\n",
    "### Sources\n",
    "- Mátyás Reuters Graph notebook"
   ]
  },
  {
   "cell_type": "code",
   "execution_count": 3,
   "id": "5373b31a",
   "metadata": {},
   "outputs": [],
   "source": [
    "import torch\n",
    "import numpy as np\n",
    "\n",
    "from data_prep.agnews_graph import AGNewsGraph\n",
    "\n",
    "device = torch.device(\"cuda:0\") if torch.cuda.is_available() else torch.device(\"cpu\")"
   ]
  },
  {
   "cell_type": "code",
   "execution_count": 14,
   "id": "c7a5e435",
   "metadata": {},
   "outputs": [
    {
     "name": "stdout",
     "output_type": "stream",
     "text": [
      "Prepare AGNews dataset\n"
     ]
    },
    {
     "name": "stderr",
     "output_type": "stream",
     "text": [
      "Using custom data configuration default\n",
      "Reusing dataset ag_news (/home/mat/.cache/huggingface/datasets/ag_news/default/0.0.0/0eeeaaa5fb6dffd81458e293dfea1adba2881ffcbdc3fb56baeb5a892566c29a)\n"
     ]
    },
    {
     "name": "stdout",
     "output_type": "stream",
     "text": [
      "Compute tf.idf\n",
      "Compute PMI scores\n",
      "Generate edges\n",
      "Generate masks\n",
      "Generate feature matrix\n",
      "Features mtx is 0.5503716000000001 GBs in size\n"
     ]
    }
   ],
   "source": [
    "agnews = AGNewsGraph(device, train_doc=1000)"
   ]
  },
  {
   "cell_type": "code",
   "execution_count": 15,
   "id": "bc94fbc5",
   "metadata": {},
   "outputs": [
    {
     "name": "stdout",
     "output_type": "stream",
     "text": [
      "(array([0, 1, 2, 3]), array([269, 222, 241, 268]))\n",
      "(array([0, 1, 2, 3]), array([17, 23, 30, 30]))\n"
     ]
    }
   ],
   "source": [
    "print(np.unique(agnews.data.y[agnews.data.train_mask].cpu(), return_counts=True))\n",
    "print(np.unique(agnews.data.y[agnews.data.val_mask].cpu(), return_counts=True))"
   ]
  },
  {
   "cell_type": "code",
   "execution_count": 16,
   "id": "b67071f0",
   "metadata": {},
   "outputs": [
    {
     "name": "stdout",
     "output_type": "stream",
     "text": [
      "tensor(0, device='cuda:0')\n",
      "tensor(1000, device='cuda:0')\n",
      "tensor(100, device='cuda:0')\n",
      "tensor(100, device='cuda:0')\n"
     ]
    }
   ],
   "source": [
    "print(sum(agnews.data.val_mask * agnews.data.train_mask * agnews.data.test_mask))\n",
    "print(sum(agnews.data.train_mask))\n",
    "print(sum(agnews.data.val_mask))\n",
    "print(sum(agnews.data.test_mask))"
   ]
  },
  {
   "cell_type": "code",
   "execution_count": 7,
   "id": "512c809e",
   "metadata": {},
   "outputs": [],
   "source": [
    "# GraphConv, GATConv\n",
    "import torch\n",
    "import torch.nn.functional as F\n",
    "from torch_geometric.nn import GCNConv, GraphConv\n",
    "\n",
    "class Net(torch.nn.Module):\n",
    "    def __init__(self):\n",
    "        super(Net, self).__init__()\n",
    "        self.conv1 = GCNConv(len(agnews.iton), 200)\n",
    "        self.conv2 = GCNConv(200, 8)\n",
    "\n",
    "    def forward(self, data):\n",
    "        x, edge_index, edge_weight = data.x, data.edge_index, data.edge_attr\n",
    "        \n",
    "        x = self.conv1(x, edge_index, edge_weight)\n",
    "        x = F.relu(x)\n",
    "        x = F.dropout(x, training=self.training)\n",
    "        x = self.conv2(x, edge_index, edge_weight)\n",
    "        return x\n",
    "\n",
    "def eval(model, data, mask):\n",
    "    _, pred = model(data).max(dim=1)\n",
    "    #print(pred[mask])\n",
    "    #print(data.y[mask])\n",
    "    correct = pred[mask].eq(data.y[mask]).sum().item()\n",
    "    acc = correct / mask.sum()\n",
    "    print('Accuracy: {:.4f}'.format(acc))"
   ]
  },
  {
   "cell_type": "code",
   "execution_count": 8,
   "id": "4726a0ab",
   "metadata": {},
   "outputs": [
    {
     "data": {
      "text/plain": [
       "Data(edge_attr=[694792], edge_index=[2, 694792], test_mask=[11730], train_mask=[11730], val_mask=[11730], x=[11730, 11730], y=[11730])"
      ]
     },
     "execution_count": 8,
     "metadata": {},
     "output_type": "execute_result"
    }
   ],
   "source": [
    "model = Net()\n",
    "model = model.to(device)\n",
    "optimizer = torch.optim.Adam(model.parameters(), lr=0.1)#, weight_decay=5e-4)\n",
    "agnews.data.to(device)"
   ]
  },
  {
   "cell_type": "code",
   "execution_count": 9,
   "id": "307e3254",
   "metadata": {},
   "outputs": [
    {
     "data": {
      "application/vnd.jupyter.widget-view+json": {
       "model_id": "24cd82a3bcb4477482a0386d9d19b0f5",
       "version_major": 2,
       "version_minor": 0
      },
      "text/plain": [
       "HBox(children=(FloatProgress(value=0.0, max=40.0), HTML(value='')))"
      ]
     },
     "metadata": {},
     "output_type": "display_data"
    },
    {
     "name": "stdout",
     "output_type": "stream",
     "text": [
      "Loss: 2.079390048980713\n",
      "(array([0, 1, 2, 3, 4, 5, 6, 7]), array([ 29, 125,  97, 345, 129, 128,  90,  57]))\n",
      "Accuracy: 0.4600\n",
      "Loss: 1.6133803129196167\n",
      "(array([0, 1, 2, 3]), array([484, 119,  73, 324]))\n",
      "Accuracy: 0.4000\n",
      "Loss: 1.3256406784057617\n",
      "(array([0, 1, 2, 3]), array([560,   3,  20, 417]))\n",
      "Accuracy: 0.4500\n",
      "Loss: 1.1572171449661255\n",
      "(array([0, 1, 2, 3]), array([372, 120, 140, 368]))\n",
      "Accuracy: 0.7300\n",
      "Loss: 0.9445360898971558\n",
      "(array([0, 1, 2, 3]), array([263, 232, 243, 262]))\n",
      "Accuracy: 0.6600\n",
      "Loss: 0.6910749077796936\n",
      "(array([0, 1, 2, 3]), array([267, 222, 232, 279]))\n",
      "Accuracy: 0.7600\n",
      "Loss: 0.44048789143562317\n",
      "(array([0, 1, 2, 3]), array([269, 222, 246, 263]))\n",
      "Accuracy: 0.8300\n",
      "Loss: 0.268040269613266\n",
      "(array([0, 1, 2, 3]), array([266, 224, 241, 269]))\n",
      "Accuracy: 0.8100\n",
      "Loss: 0.14889079332351685\n",
      "(array([0, 1, 2, 3]), array([270, 223, 243, 264]))\n",
      "Accuracy: 0.8200\n",
      "Loss: 0.08041746914386749\n",
      "(array([0, 1, 2, 3]), array([268, 222, 241, 269]))\n",
      "Accuracy: 0.7800\n",
      "Loss: 0.049951814115047455\n",
      "(array([0, 1, 2, 3]), array([270, 221, 240, 269]))\n",
      "Accuracy: 0.7900\n",
      "Loss: 0.03290097042918205\n",
      "(array([0, 1, 2, 3]), array([266, 225, 243, 266]))\n",
      "Accuracy: 0.7900\n",
      "Loss: 0.020598648115992546\n",
      "(array([0, 1, 2, 3]), array([267, 223, 242, 268]))\n",
      "Accuracy: 0.8100\n",
      "Loss: 0.016375470906496048\n",
      "(array([0, 1, 2, 3]), array([268, 222, 243, 267]))\n",
      "Accuracy: 0.7900\n",
      "Loss: 0.008472318761050701\n",
      "(array([0, 1, 2, 3]), array([268, 222, 242, 268]))\n",
      "Accuracy: 0.8200\n",
      "Loss: 0.00672526191920042\n",
      "(array([0, 1, 2, 3]), array([268, 222, 242, 268]))\n",
      "Accuracy: 0.8200\n",
      "Loss: 0.003282605903223157\n",
      "(array([0, 1, 2, 3]), array([269, 222, 241, 268]))\n",
      "Accuracy: 0.8400\n",
      "Loss: 0.0027374853380024433\n",
      "(array([0, 1, 2, 3]), array([268, 222, 242, 268]))\n",
      "Accuracy: 0.8400\n",
      "Loss: 0.00182913092430681\n",
      "(array([0, 1, 2, 3]), array([270, 222, 240, 268]))\n",
      "Accuracy: 0.8200\n",
      "Loss: 0.0009545668144710362\n",
      "(array([0, 1, 2, 3]), array([269, 222, 241, 268]))\n",
      "Accuracy: 0.8700\n",
      "Loss: 0.0006599050830118358\n",
      "(array([0, 1, 2, 3]), array([269, 222, 241, 268]))\n",
      "Accuracy: 0.8200\n",
      "Loss: 0.00037914529093541205\n",
      "(array([0, 1, 2, 3]), array([269, 222, 241, 268]))\n",
      "Accuracy: 0.8400\n",
      "Loss: 0.0006143273785710335\n",
      "(array([0, 1, 2, 3]), array([269, 222, 241, 268]))\n",
      "Accuracy: 0.8400\n",
      "Loss: 0.0004798075824510306\n",
      "(array([0, 1, 2, 3]), array([269, 222, 241, 268]))\n",
      "Accuracy: 0.8400\n",
      "Loss: 0.00018931031809188426\n",
      "(array([0, 1, 2, 3]), array([269, 222, 241, 268]))\n",
      "Accuracy: 0.8300\n",
      "Loss: 0.0001703408343018964\n",
      "(array([0, 1, 2, 3]), array([269, 222, 241, 268]))\n",
      "Accuracy: 0.8300\n",
      "Loss: 0.00010545513941906393\n",
      "(array([0, 1, 2, 3]), array([269, 222, 241, 268]))\n",
      "Accuracy: 0.8200\n",
      "Loss: 4.297383929952048e-05\n",
      "(array([0, 1, 2, 3]), array([269, 222, 241, 268]))\n",
      "Accuracy: 0.8300\n",
      "Loss: 5.093885920359753e-05\n",
      "(array([0, 1, 2, 3]), array([269, 222, 241, 268]))\n",
      "Accuracy: 0.8800\n",
      "Loss: 0.00016373042308259755\n",
      "(array([0, 1, 2, 3]), array([269, 222, 241, 268]))\n",
      "Accuracy: 0.8400\n",
      "Loss: 4.81162169307936e-05\n",
      "(array([0, 1, 2, 3]), array([269, 222, 241, 268]))\n",
      "Accuracy: 0.8400\n",
      "Loss: 1.5230581084324513e-05\n",
      "(array([0, 1, 2, 3]), array([269, 222, 241, 268]))\n",
      "Accuracy: 0.8600\n",
      "Loss: 5.938744288869202e-05\n",
      "(array([0, 1, 2, 3]), array([269, 222, 241, 268]))\n",
      "Accuracy: 0.8200\n",
      "Loss: 2.2302434445009567e-05\n",
      "(array([0, 1, 2, 3]), array([269, 222, 241, 268]))\n",
      "Accuracy: 0.8300\n",
      "Loss: 1.2174881703685969e-05\n",
      "(array([0, 1, 2, 3]), array([269, 222, 241, 268]))\n",
      "Accuracy: 0.8200\n",
      "Loss: 2.4481691070832312e-05\n",
      "(array([0, 1, 2, 3]), array([269, 222, 241, 268]))\n",
      "Accuracy: 0.8000\n",
      "Loss: 2.382341153861489e-05\n",
      "(array([0, 1, 2, 3]), array([269, 222, 241, 268]))\n",
      "Accuracy: 0.8500\n",
      "Loss: 1.0935567843262106e-05\n",
      "(array([0, 1, 2, 3]), array([269, 222, 241, 268]))\n",
      "Accuracy: 0.8300\n",
      "Loss: 1.9535831597750075e-05\n",
      "(array([0, 1, 2, 3]), array([269, 222, 241, 268]))\n",
      "Accuracy: 0.8500\n",
      "Loss: 8.519765287928749e-06\n",
      "(array([0, 1, 2, 3]), array([269, 222, 241, 268]))\n",
      "Accuracy: 0.8200\n",
      "\n"
     ]
    }
   ],
   "source": [
    "from tqdm.notebook import tqdm\n",
    "\n",
    "model.train()\n",
    "for epoch in tqdm(range(40)):\n",
    "    optimizer.zero_grad()\n",
    "    out = model(agnews.data)\n",
    "    # We might want to use the \"weight\" parameter for the loss with unbalanced dataset\n",
    "    # since with a low learning rate the model just assigns every doc to class \"earn\"\n",
    "    # https://pytorch.org/docs/stable/generated/torch.nn.CrossEntropyLoss.html\n",
    "    loss = F.cross_entropy(out[agnews.data.train_mask], agnews.data.y[agnews.data.train_mask])\n",
    "    print('Loss:', loss.item())\n",
    "    loss.backward()\n",
    "    optimizer.step()\n",
    "    print(np.unique(out[agnews.data.train_mask].max(dim=1)[1].detach().cpu().numpy(), return_counts=True))\n",
    "    #print(np.unique(r8.data.y[r8.data.train_mask].detach().cpu().numpy(), return_counts=True))\n",
    "    eval(model, agnews.data, agnews.data.val_mask)"
   ]
  },
  {
   "cell_type": "code",
   "execution_count": 10,
   "id": "bf770635",
   "metadata": {},
   "outputs": [
    {
     "name": "stdout",
     "output_type": "stream",
     "text": [
      "Accuracy: 0.8600\n"
     ]
    }
   ],
   "source": [
    "eval(model, agnews.data, agnews.data.test_mask)"
   ]
  },
  {
   "cell_type": "code",
   "execution_count": null,
   "id": "71d5323e",
   "metadata": {},
   "outputs": [],
   "source": []
  }
 ],
 "metadata": {
  "kernelspec": {
   "display_name": "Python 3",
   "language": "python",
   "name": "python3"
  },
  "language_info": {
   "codemirror_mode": {
    "name": "ipython",
    "version": 3
   },
   "file_extension": ".py",
   "mimetype": "text/x-python",
   "name": "python",
   "nbconvert_exporter": "python",
   "pygments_lexer": "ipython3",
   "version": "3.8.8"
  }
 },
 "nbformat": 4,
 "nbformat_minor": 5
}
