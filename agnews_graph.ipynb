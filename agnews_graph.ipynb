{
 "cells": [
  {
   "cell_type": "markdown",
   "id": "9dcea768",
   "metadata": {},
   "source": [
    "# AGNews Graph version\n",
    "\n",
    "### Sources\n",
    "- Mátyás Reuters Graph notebook"
   ]
  },
  {
   "cell_type": "code",
   "execution_count": 1,
   "id": "5373b31a",
   "metadata": {},
   "outputs": [],
   "source": [
    "import torch\n",
    "import numpy as np\n",
    "\n",
    "from data_prep.agnews_graph import AGNewsGraph\n",
    "\n",
    "device = torch.device(\"cuda:0\") if torch.cuda.is_available() else torch.device(\"cpu\")"
   ]
  },
  {
   "cell_type": "code",
   "execution_count": 2,
   "id": "c7a5e435",
   "metadata": {},
   "outputs": [
    {
     "name": "stdout",
     "output_type": "stream",
     "text": [
      "Prepare AGNews dataset\n"
     ]
    },
    {
     "name": "stderr",
     "output_type": "stream",
     "text": [
      "Using custom data configuration default\n",
      "Reusing dataset ag_news (/home/mat/.cache/huggingface/datasets/ag_news/default/0.0.0/0eeeaaa5fb6dffd81458e293dfea1adba2881ffcbdc3fb56baeb5a892566c29a)\n"
     ]
    },
    {
     "name": "stdout",
     "output_type": "stream",
     "text": [
      "Compute tf.idf\n",
      "Compute PMI scores\n",
      "Generate edges\n",
      "Generate masks\n",
      "Generate feature matrix\n",
      "Features mtx is 0.5602689000000001 GBs in size\n"
     ]
    }
   ],
   "source": [
    "agnews = AGNewsGraph(device)"
   ]
  },
  {
   "cell_type": "code",
   "execution_count": 3,
   "id": "bc94fbc5",
   "metadata": {},
   "outputs": [
    {
     "name": "stdout",
     "output_type": "stream",
     "text": [
      "(array([0, 1, 2, 3]), array([265, 232, 223, 280]))\n",
      "(array([0, 1, 2, 3]), array([30, 29, 15, 26]))\n"
     ]
    }
   ],
   "source": [
    "print(np.unique(agnews.data.y[agnews.data.train_mask].cpu(), return_counts=True))\n",
    "print(np.unique(agnews.data.y[agnews.data.val_mask].cpu(), return_counts=True))"
   ]
  },
  {
   "cell_type": "code",
   "execution_count": 4,
   "id": "b67071f0",
   "metadata": {},
   "outputs": [
    {
     "name": "stdout",
     "output_type": "stream",
     "text": [
      "tensor(0, device='cuda:0')\n",
      "tensor(1000, device='cuda:0')\n",
      "tensor(100, device='cuda:0')\n",
      "tensor(100, device='cuda:0')\n"
     ]
    }
   ],
   "source": [
    "print(sum(agnews.data.val_mask * agnews.data.train_mask * agnews.data.test_mask))\n",
    "print(sum(agnews.data.train_mask))\n",
    "print(sum(agnews.data.val_mask))\n",
    "print(sum(agnews.data.test_mask))"
   ]
  },
  {
   "cell_type": "code",
   "execution_count": 5,
   "id": "512c809e",
   "metadata": {},
   "outputs": [],
   "source": [
    "# GraphConv, GATConv\n",
    "import torch\n",
    "import torch.nn.functional as F\n",
    "from torch_geometric.nn import GCNConv, GraphConv\n",
    "\n",
    "class Net(torch.nn.Module):\n",
    "    def __init__(self):\n",
    "        super(Net, self).__init__()\n",
    "        self.conv1 = GCNConv(len(agnews.iton), 200)\n",
    "        self.conv2 = GCNConv(200, 8)\n",
    "\n",
    "    def forward(self, data):\n",
    "        x, edge_index, edge_weight = data.x, data.edge_index, data.edge_attr\n",
    "        \n",
    "        x = self.conv1(x, edge_index, edge_weight)\n",
    "        x = F.relu(x)\n",
    "        x = F.dropout(x, training=self.training)\n",
    "        x = self.conv2(x, edge_index, edge_weight)\n",
    "        return x\n",
    "\n",
    "def eval(model, data, mask):\n",
    "    _, pred = model(data).max(dim=1)\n",
    "    #print(pred[mask])\n",
    "    #print(data.y[mask])\n",
    "    correct = pred[mask].eq(data.y[mask]).sum().item()\n",
    "    acc = correct / mask.sum()\n",
    "    print('Accuracy: {:.4f}'.format(acc))"
   ]
  },
  {
   "cell_type": "code",
   "execution_count": 6,
   "id": "4726a0ab",
   "metadata": {},
   "outputs": [
    {
     "data": {
      "text/plain": [
       "Data(edge_attr=[694850], edge_index=[2, 694850], test_mask=[11835], train_mask=[11835], val_mask=[11835], x=[11835, 11835], y=[11835])"
      ]
     },
     "execution_count": 6,
     "metadata": {},
     "output_type": "execute_result"
    }
   ],
   "source": [
    "model = Net()\n",
    "model = model.to(device)\n",
    "optimizer = torch.optim.Adam(model.parameters(), lr=0.1)#, weight_decay=5e-4)\n",
    "agnews.data.to(device)"
   ]
  },
  {
   "cell_type": "code",
   "execution_count": 7,
   "id": "307e3254",
   "metadata": {},
   "outputs": [
    {
     "data": {
      "application/vnd.jupyter.widget-view+json": {
       "model_id": "edaf20d900424088ad1101b5cf8a5fce",
       "version_major": 2,
       "version_minor": 0
      },
      "text/plain": [
       "HBox(children=(FloatProgress(value=0.0, max=40.0), HTML(value='')))"
      ]
     },
     "metadata": {},
     "output_type": "display_data"
    },
    {
     "name": "stdout",
     "output_type": "stream",
     "text": [
      "Loss: 2.079530954360962\n",
      "(array([0, 1, 2, 3, 4, 5, 6, 7]), array([ 29, 141, 166,  47,  26, 173, 322,  96]))\n",
      "Accuracy: 0.4700\n",
      "Loss: 1.6169036626815796\n",
      "(array([0, 1, 2, 3]), array([ 63, 253,   2, 682]))\n",
      "Accuracy: 0.2600\n",
      "Loss: 1.325688123703003\n",
      "(array([0, 1, 3]), array([ 57,   8, 935]))\n",
      "Accuracy: 0.4300\n",
      "Loss: 1.1514065265655518\n",
      "(array([0, 1, 2, 3]), array([270, 165,  48, 517]))\n",
      "Accuracy: 0.7300\n",
      "Loss: 0.949795663356781\n",
      "(array([0, 1, 2, 3]), array([261, 238, 263, 238]))\n",
      "Accuracy: 0.7900\n",
      "Loss: 0.7164130210876465\n",
      "(array([0, 1, 2, 3]), array([272, 235, 188, 305]))\n",
      "Accuracy: 0.7600\n",
      "Loss: 0.48168718814849854\n",
      "(array([0, 1, 2, 3]), array([258, 231, 213, 298]))\n",
      "Accuracy: 0.7600\n",
      "Loss: 0.32096654176712036\n",
      "(array([0, 1, 2, 3]), array([260, 234, 254, 252]))\n",
      "Accuracy: 0.8200\n",
      "Loss: 0.19475802779197693\n",
      "(array([0, 1, 2, 3]), array([261, 233, 215, 291]))\n",
      "Accuracy: 0.8200\n",
      "Loss: 0.1214991956949234\n",
      "(array([0, 1, 2, 3]), array([260, 233, 216, 291]))\n",
      "Accuracy: 0.8100\n",
      "Loss: 0.0765131488442421\n",
      "(array([0, 1, 2, 3]), array([259, 233, 228, 280]))\n",
      "Accuracy: 0.8100\n",
      "Loss: 0.05601584538817406\n",
      "(array([0, 1, 2, 3]), array([260, 233, 231, 276]))\n",
      "Accuracy: 0.8500\n",
      "Loss: 0.033116985112428665\n",
      "(array([0, 1, 2, 3]), array([262, 232, 227, 279]))\n",
      "Accuracy: 0.8400\n",
      "Loss: 0.021244872361421585\n",
      "(array([0, 1, 2, 3]), array([265, 233, 222, 280]))\n",
      "Accuracy: 0.8500\n",
      "Loss: 0.016361426562070847\n",
      "(array([0, 1, 2, 3]), array([265, 232, 219, 284]))\n",
      "Accuracy: 0.7900\n",
      "Loss: 0.010668423026800156\n",
      "(array([0, 1, 2, 3]), array([264, 233, 222, 281]))\n",
      "Accuracy: 0.8500\n",
      "Loss: 0.0073683918453752995\n",
      "(array([0, 1, 2, 3]), array([265, 232, 222, 281]))\n",
      "Accuracy: 0.8300\n",
      "Loss: 0.00394813809543848\n",
      "(array([0, 1, 2, 3]), array([265, 232, 223, 280]))\n",
      "Accuracy: 0.8100\n",
      "Loss: 0.00400511221960187\n",
      "(array([0, 1, 2, 3]), array([265, 232, 225, 278]))\n",
      "Accuracy: 0.8400\n",
      "Loss: 0.0022689553443342447\n",
      "(array([0, 1, 2, 3]), array([265, 232, 223, 280]))\n",
      "Accuracy: 0.8300\n",
      "Loss: 0.0028799541760236025\n",
      "(array([0, 1, 2, 3]), array([265, 232, 224, 279]))\n",
      "Accuracy: 0.8300\n",
      "Loss: 0.001547143328934908\n",
      "(array([0, 1, 2, 3]), array([265, 232, 223, 280]))\n",
      "Accuracy: 0.8300\n",
      "Loss: 0.0010610159952193499\n",
      "(array([0, 1, 2, 3]), array([265, 232, 223, 280]))\n",
      "Accuracy: 0.8400\n",
      "Loss: 0.001590471132658422\n",
      "(array([0, 1, 2, 3]), array([265, 232, 223, 280]))\n",
      "Accuracy: 0.8100\n",
      "Loss: 0.0008773210574872792\n",
      "(array([0, 1, 2, 3]), array([265, 232, 223, 280]))\n",
      "Accuracy: 0.8300\n",
      "Loss: 0.00039442279376089573\n",
      "(array([0, 1, 2, 3]), array([265, 232, 223, 280]))\n",
      "Accuracy: 0.8000\n",
      "Loss: 0.0003794831281993538\n",
      "(array([0, 1, 2, 3]), array([265, 232, 223, 280]))\n",
      "Accuracy: 0.8000\n",
      "Loss: 0.00021344532433431596\n",
      "(array([0, 1, 2, 3]), array([265, 232, 223, 280]))\n",
      "Accuracy: 0.8000\n",
      "Loss: 0.00023641726875212044\n",
      "(array([0, 1, 2, 3]), array([265, 232, 223, 280]))\n",
      "Accuracy: 0.8400\n",
      "Loss: 0.00016719260020181537\n",
      "(array([0, 1, 2, 3]), array([265, 232, 223, 280]))\n",
      "Accuracy: 0.8200\n",
      "Loss: 0.00015566918591503054\n",
      "(array([0, 1, 2, 3]), array([265, 232, 223, 280]))\n",
      "Accuracy: 0.8200\n",
      "Loss: 0.0005955546512268484\n",
      "(array([0, 1, 2, 3]), array([265, 232, 223, 280]))\n",
      "Accuracy: 0.8000\n",
      "Loss: 0.00013048398250248283\n",
      "(array([0, 1, 2, 3]), array([265, 232, 223, 280]))\n",
      "Accuracy: 0.8100\n",
      "Loss: 0.0002578596177045256\n",
      "(array([0, 1, 2, 3]), array([265, 232, 223, 280]))\n",
      "Accuracy: 0.7700\n",
      "Loss: 0.00011694196291500703\n",
      "(array([0, 1, 2, 3]), array([265, 232, 223, 280]))\n",
      "Accuracy: 0.8700\n",
      "Loss: 0.0001121780151152052\n",
      "(array([0, 1, 2, 3]), array([265, 232, 223, 280]))\n",
      "Accuracy: 0.8000\n",
      "Loss: 7.087460107868537e-05\n",
      "(array([0, 1, 2, 3]), array([265, 232, 223, 280]))\n",
      "Accuracy: 0.8100\n",
      "Loss: 9.530675743008032e-05\n",
      "(array([0, 1, 2, 3]), array([265, 232, 223, 280]))\n",
      "Accuracy: 0.7900\n",
      "Loss: 5.7147051848005503e-05\n",
      "(array([0, 1, 2, 3]), array([265, 232, 223, 280]))\n",
      "Accuracy: 0.8100\n",
      "Loss: 6.711103196721524e-05\n",
      "(array([0, 1, 2, 3]), array([265, 232, 223, 280]))\n",
      "Accuracy: 0.8100\n",
      "\n"
     ]
    }
   ],
   "source": [
    "from tqdm.notebook import tqdm\n",
    "\n",
    "model.train()\n",
    "for epoch in tqdm(range(40)):\n",
    "    optimizer.zero_grad()\n",
    "    out = model(agnews.data)\n",
    "    # We might want to use the \"weight\" parameter for the loss with unbalanced dataset\n",
    "    # since with a low learning rate the model just assigns every doc to class \"earn\"\n",
    "    # https://pytorch.org/docs/stable/generated/torch.nn.CrossEntropyLoss.html\n",
    "    loss = F.cross_entropy(out[agnews.data.train_mask], agnews.data.y[agnews.data.train_mask])\n",
    "    print('Loss:', loss.item())\n",
    "    loss.backward()\n",
    "    optimizer.step()\n",
    "    print(np.unique(out[agnews.data.train_mask].max(dim=1)[1].detach().cpu().numpy(), return_counts=True))\n",
    "    #print(np.unique(r8.data.y[r8.data.train_mask].detach().cpu().numpy(), return_counts=True))\n",
    "    eval(model, agnews.data, agnews.data.val_mask)"
   ]
  },
  {
   "cell_type": "code",
   "execution_count": 8,
   "id": "bf770635",
   "metadata": {},
   "outputs": [
    {
     "name": "stdout",
     "output_type": "stream",
     "text": [
      "Accuracy: 0.8300\n"
     ]
    }
   ],
   "source": [
    "eval(model, agnews.data, agnews.data.test_mask)"
   ]
  },
  {
   "cell_type": "code",
   "execution_count": null,
   "id": "71d5323e",
   "metadata": {},
   "outputs": [],
   "source": []
  }
 ],
 "metadata": {
  "kernelspec": {
   "display_name": "Python 3",
   "language": "python",
   "name": "python3"
  },
  "language_info": {
   "codemirror_mode": {
    "name": "ipython",
    "version": 3
   },
   "file_extension": ".py",
   "mimetype": "text/x-python",
   "name": "python",
   "nbconvert_exporter": "python",
   "pygments_lexer": "ipython3",
   "version": "3.8.8"
  }
 },
 "nbformat": 4,
 "nbformat_minor": 5
}
